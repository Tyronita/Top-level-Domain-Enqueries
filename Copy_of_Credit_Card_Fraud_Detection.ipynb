{
  "nbformat": 4,
  "nbformat_minor": 0,
  "metadata": {
    "colab": {
      "name": "Copy of Credit Card Fraud Detection.ipynb",
      "provenance": [],
      "collapsed_sections": [],
      "include_colab_link": true
    },
    "kernelspec": {
      "display_name": "Python 3",
      "language": "python",
      "name": "python3"
    },
    "language_info": {
      "codemirror_mode": {
        "name": "ipython",
        "version": 3
      },
      "file_extension": ".py",
      "mimetype": "text/x-python",
      "name": "python",
      "nbconvert_exporter": "python",
      "pygments_lexer": "ipython3",
      "version": "3.7.6"
    }
  },
  "cells": [
    {
      "cell_type": "markdown",
      "metadata": {
        "id": "view-in-github",
        "colab_type": "text"
      },
      "source": [
        "<a href=\"https://colab.research.google.com/github/Tyronita/Top-level-Domain-Enqueries/blob/master/Copy_of_Credit_Card_Fraud_Detection.ipynb\" target=\"_parent\"><img src=\"https://colab.research.google.com/assets/colab-badge.svg\" alt=\"Open In Colab\"/></a>"
      ]
    },
    {
      "cell_type": "code",
      "metadata": {
        "id": "QhNnmx7l13_9"
      },
      "source": [
        "import pandas as pd\n",
        "import matplotlib.pyplot as plt\n",
        "import math, statistics, random"
      ],
      "execution_count": null,
      "outputs": []
    },
    {
      "cell_type": "markdown",
      "metadata": {
        "id": "daQreKXIUslr"
      },
      "source": [
        "# Some basics\n",
        "The primary data structures in *pandas* are implemented as two classes:\n",
        "\n",
        "  * **`DataFrame`**, which you can imagine as a relational data table, with rows and named columns.\n",
        "  * **`Series`**, which is a single column. A `DataFrame` contains one or more `Series` and a name for each `Series`.\n",
        "\n",
        "The data frame is a commonly used abstraction for data manipulation."
      ]
    },
    {
      "cell_type": "markdown",
      "metadata": {
        "id": "jli9kB0RDQ94"
      },
      "source": [
        "\n",
        "# Preparing the data\n",
        "- First lets import it.\n",
        "- Then lets clean the data by removing rows which contain missing values"
      ]
    },
    {
      "cell_type": "code",
      "metadata": {
        "colab": {
          "base_uri": "https://localhost:8080/",
          "height": 391
        },
        "id": "cfzeh3kY2bPh",
        "outputId": "bdf367d3-29e8-4d92-c5b3-1a5ab7d78260"
      },
      "source": [
        "# Read the CSV\n",
        "transactions = pd.read_csv(\"creditcard.csv\")\n",
        "\n",
        "# the isnull method detects missing values for an array-like object.\n",
        "print(\"Any missing values?\", transactions.isnull().values.any())"
      ],
      "execution_count": null,
      "outputs": [
        {
          "output_type": "stream",
          "text": [
            "Any missing values? False\n"
          ],
          "name": "stdout"
        }
      ]
    },
    {
      "cell_type": "markdown",
      "metadata": {
        "id": "CIzZDUk7DQ95"
      },
      "source": [
        "- As there was no missing values, we can go on to remove any duplicate records:\n",
        "- `duplicated()` is an inbuilt method that finds duplicate rows based on all columns or some specific columns. The pandas.duplicated() function returns a Boolean Series with True value for each duplicated row."
      ]
    },
    {
      "cell_type": "code",
      "metadata": {
        "scrolled": false,
        "id": "WSVv-upYDQ95",
        "outputId": "cf05b094-f842-47bd-f724-5aacbdd176df"
      },
      "source": [
        "duplicates = transactions[transactions.duplicated()]\n",
        "duplicates[duplicates.Class == 1]"
      ],
      "execution_count": null,
      "outputs": [
        {
          "output_type": "execute_result",
          "data": {
            "text/html": [
              "<div>\n",
              "<style scoped>\n",
              "    .dataframe tbody tr th:only-of-type {\n",
              "        vertical-align: middle;\n",
              "    }\n",
              "\n",
              "    .dataframe tbody tr th {\n",
              "        vertical-align: top;\n",
              "    }\n",
              "\n",
              "    .dataframe thead th {\n",
              "        text-align: right;\n",
              "    }\n",
              "</style>\n",
              "<table border=\"1\" class=\"dataframe\">\n",
              "  <thead>\n",
              "    <tr style=\"text-align: right;\">\n",
              "      <th></th>\n",
              "      <th>Time</th>\n",
              "      <th>V1</th>\n",
              "      <th>V2</th>\n",
              "      <th>V3</th>\n",
              "      <th>V4</th>\n",
              "      <th>V5</th>\n",
              "      <th>V6</th>\n",
              "      <th>V7</th>\n",
              "      <th>V8</th>\n",
              "      <th>V9</th>\n",
              "      <th>...</th>\n",
              "      <th>V21</th>\n",
              "      <th>V22</th>\n",
              "      <th>V23</th>\n",
              "      <th>V24</th>\n",
              "      <th>V25</th>\n",
              "      <th>V26</th>\n",
              "      <th>V27</th>\n",
              "      <th>V28</th>\n",
              "      <th>Amount</th>\n",
              "      <th>Class</th>\n",
              "    </tr>\n",
              "  </thead>\n",
              "  <tbody>\n",
              "    <tr>\n",
              "      <th>102442</th>\n",
              "      <td>68207.0</td>\n",
              "      <td>-13.192671</td>\n",
              "      <td>12.785971</td>\n",
              "      <td>-9.906650</td>\n",
              "      <td>3.320337</td>\n",
              "      <td>-4.801176</td>\n",
              "      <td>5.760059</td>\n",
              "      <td>-18.750889</td>\n",
              "      <td>-37.353443</td>\n",
              "      <td>-0.391540</td>\n",
              "      <td>...</td>\n",
              "      <td>27.202839</td>\n",
              "      <td>-8.887017</td>\n",
              "      <td>5.303607</td>\n",
              "      <td>-0.639435</td>\n",
              "      <td>0.263203</td>\n",
              "      <td>-0.108877</td>\n",
              "      <td>1.269566</td>\n",
              "      <td>0.939407</td>\n",
              "      <td>1.00</td>\n",
              "      <td>1</td>\n",
              "    </tr>\n",
              "    <tr>\n",
              "      <th>102443</th>\n",
              "      <td>68207.0</td>\n",
              "      <td>-13.192671</td>\n",
              "      <td>12.785971</td>\n",
              "      <td>-9.906650</td>\n",
              "      <td>3.320337</td>\n",
              "      <td>-4.801176</td>\n",
              "      <td>5.760059</td>\n",
              "      <td>-18.750889</td>\n",
              "      <td>-37.353443</td>\n",
              "      <td>-0.391540</td>\n",
              "      <td>...</td>\n",
              "      <td>27.202839</td>\n",
              "      <td>-8.887017</td>\n",
              "      <td>5.303607</td>\n",
              "      <td>-0.639435</td>\n",
              "      <td>0.263203</td>\n",
              "      <td>-0.108877</td>\n",
              "      <td>1.269566</td>\n",
              "      <td>0.939407</td>\n",
              "      <td>1.00</td>\n",
              "      <td>1</td>\n",
              "    </tr>\n",
              "    <tr>\n",
              "      <th>102444</th>\n",
              "      <td>68207.0</td>\n",
              "      <td>-13.192671</td>\n",
              "      <td>12.785971</td>\n",
              "      <td>-9.906650</td>\n",
              "      <td>3.320337</td>\n",
              "      <td>-4.801176</td>\n",
              "      <td>5.760059</td>\n",
              "      <td>-18.750889</td>\n",
              "      <td>-37.353443</td>\n",
              "      <td>-0.391540</td>\n",
              "      <td>...</td>\n",
              "      <td>27.202839</td>\n",
              "      <td>-8.887017</td>\n",
              "      <td>5.303607</td>\n",
              "      <td>-0.639435</td>\n",
              "      <td>0.263203</td>\n",
              "      <td>-0.108877</td>\n",
              "      <td>1.269566</td>\n",
              "      <td>0.939407</td>\n",
              "      <td>1.00</td>\n",
              "      <td>1</td>\n",
              "    </tr>\n",
              "    <tr>\n",
              "      <th>102445</th>\n",
              "      <td>68207.0</td>\n",
              "      <td>-13.192671</td>\n",
              "      <td>12.785971</td>\n",
              "      <td>-9.906650</td>\n",
              "      <td>3.320337</td>\n",
              "      <td>-4.801176</td>\n",
              "      <td>5.760059</td>\n",
              "      <td>-18.750889</td>\n",
              "      <td>-37.353443</td>\n",
              "      <td>-0.391540</td>\n",
              "      <td>...</td>\n",
              "      <td>27.202839</td>\n",
              "      <td>-8.887017</td>\n",
              "      <td>5.303607</td>\n",
              "      <td>-0.639435</td>\n",
              "      <td>0.263203</td>\n",
              "      <td>-0.108877</td>\n",
              "      <td>1.269566</td>\n",
              "      <td>0.939407</td>\n",
              "      <td>1.00</td>\n",
              "      <td>1</td>\n",
              "    </tr>\n",
              "    <tr>\n",
              "      <th>102446</th>\n",
              "      <td>68207.0</td>\n",
              "      <td>-13.192671</td>\n",
              "      <td>12.785971</td>\n",
              "      <td>-9.906650</td>\n",
              "      <td>3.320337</td>\n",
              "      <td>-4.801176</td>\n",
              "      <td>5.760059</td>\n",
              "      <td>-18.750889</td>\n",
              "      <td>-37.353443</td>\n",
              "      <td>-0.391540</td>\n",
              "      <td>...</td>\n",
              "      <td>27.202839</td>\n",
              "      <td>-8.887017</td>\n",
              "      <td>5.303607</td>\n",
              "      <td>-0.639435</td>\n",
              "      <td>0.263203</td>\n",
              "      <td>-0.108877</td>\n",
              "      <td>1.269566</td>\n",
              "      <td>0.939407</td>\n",
              "      <td>1.00</td>\n",
              "      <td>1</td>\n",
              "    </tr>\n",
              "    <tr>\n",
              "      <th>141258</th>\n",
              "      <td>84204.0</td>\n",
              "      <td>-0.937843</td>\n",
              "      <td>3.462889</td>\n",
              "      <td>-6.445104</td>\n",
              "      <td>4.932199</td>\n",
              "      <td>-2.233983</td>\n",
              "      <td>-2.291561</td>\n",
              "      <td>-5.695594</td>\n",
              "      <td>1.338825</td>\n",
              "      <td>-4.322377</td>\n",
              "      <td>...</td>\n",
              "      <td>1.066550</td>\n",
              "      <td>-0.521657</td>\n",
              "      <td>-0.319917</td>\n",
              "      <td>-0.405859</td>\n",
              "      <td>0.906802</td>\n",
              "      <td>1.165784</td>\n",
              "      <td>1.374495</td>\n",
              "      <td>0.729889</td>\n",
              "      <td>0.00</td>\n",
              "      <td>1</td>\n",
              "    </tr>\n",
              "    <tr>\n",
              "      <th>141260</th>\n",
              "      <td>84204.0</td>\n",
              "      <td>-1.927453</td>\n",
              "      <td>1.827621</td>\n",
              "      <td>-7.019495</td>\n",
              "      <td>5.348303</td>\n",
              "      <td>-2.739188</td>\n",
              "      <td>-2.107219</td>\n",
              "      <td>-5.015848</td>\n",
              "      <td>1.205868</td>\n",
              "      <td>-4.382713</td>\n",
              "      <td>...</td>\n",
              "      <td>1.376938</td>\n",
              "      <td>-0.792017</td>\n",
              "      <td>-0.771414</td>\n",
              "      <td>-0.379574</td>\n",
              "      <td>0.718717</td>\n",
              "      <td>1.111151</td>\n",
              "      <td>1.277707</td>\n",
              "      <td>0.819081</td>\n",
              "      <td>512.25</td>\n",
              "      <td>1</td>\n",
              "    </tr>\n",
              "    <tr>\n",
              "      <th>143334</th>\n",
              "      <td>85285.0</td>\n",
              "      <td>-7.030308</td>\n",
              "      <td>3.421991</td>\n",
              "      <td>-9.525072</td>\n",
              "      <td>5.270891</td>\n",
              "      <td>-4.024630</td>\n",
              "      <td>-2.865682</td>\n",
              "      <td>-6.989195</td>\n",
              "      <td>3.791551</td>\n",
              "      <td>-4.622730</td>\n",
              "      <td>...</td>\n",
              "      <td>1.103398</td>\n",
              "      <td>-0.541855</td>\n",
              "      <td>0.036943</td>\n",
              "      <td>-0.355519</td>\n",
              "      <td>0.353634</td>\n",
              "      <td>1.042458</td>\n",
              "      <td>1.359516</td>\n",
              "      <td>-0.272188</td>\n",
              "      <td>0.00</td>\n",
              "      <td>1</td>\n",
              "    </tr>\n",
              "    <tr>\n",
              "      <th>143336</th>\n",
              "      <td>85285.0</td>\n",
              "      <td>-6.713407</td>\n",
              "      <td>3.921104</td>\n",
              "      <td>-9.746678</td>\n",
              "      <td>5.148263</td>\n",
              "      <td>-5.151563</td>\n",
              "      <td>-2.099389</td>\n",
              "      <td>-5.937767</td>\n",
              "      <td>3.578780</td>\n",
              "      <td>-4.684952</td>\n",
              "      <td>...</td>\n",
              "      <td>0.954272</td>\n",
              "      <td>-0.451086</td>\n",
              "      <td>0.127214</td>\n",
              "      <td>-0.339450</td>\n",
              "      <td>0.394096</td>\n",
              "      <td>1.075295</td>\n",
              "      <td>1.649906</td>\n",
              "      <td>-0.394905</td>\n",
              "      <td>252.92</td>\n",
              "      <td>1</td>\n",
              "    </tr>\n",
              "    <tr>\n",
              "      <th>150661</th>\n",
              "      <td>93853.0</td>\n",
              "      <td>-6.185857</td>\n",
              "      <td>7.102985</td>\n",
              "      <td>-13.030455</td>\n",
              "      <td>8.010823</td>\n",
              "      <td>-7.885237</td>\n",
              "      <td>-3.974550</td>\n",
              "      <td>-12.229608</td>\n",
              "      <td>4.971232</td>\n",
              "      <td>-4.248307</td>\n",
              "      <td>...</td>\n",
              "      <td>2.502772</td>\n",
              "      <td>0.481691</td>\n",
              "      <td>0.480958</td>\n",
              "      <td>0.360319</td>\n",
              "      <td>-0.293354</td>\n",
              "      <td>-0.199193</td>\n",
              "      <td>-0.203917</td>\n",
              "      <td>0.398927</td>\n",
              "      <td>44.90</td>\n",
              "      <td>1</td>\n",
              "    </tr>\n",
              "    <tr>\n",
              "      <th>150663</th>\n",
              "      <td>93853.0</td>\n",
              "      <td>-5.839192</td>\n",
              "      <td>7.151532</td>\n",
              "      <td>-12.816760</td>\n",
              "      <td>7.031115</td>\n",
              "      <td>-9.651272</td>\n",
              "      <td>-2.938427</td>\n",
              "      <td>-11.543207</td>\n",
              "      <td>4.843627</td>\n",
              "      <td>-3.494276</td>\n",
              "      <td>...</td>\n",
              "      <td>2.462056</td>\n",
              "      <td>1.054865</td>\n",
              "      <td>0.530481</td>\n",
              "      <td>0.472670</td>\n",
              "      <td>-0.275998</td>\n",
              "      <td>0.282435</td>\n",
              "      <td>0.104886</td>\n",
              "      <td>0.254417</td>\n",
              "      <td>316.06</td>\n",
              "      <td>1</td>\n",
              "    </tr>\n",
              "    <tr>\n",
              "      <th>150667</th>\n",
              "      <td>93860.0</td>\n",
              "      <td>-10.850282</td>\n",
              "      <td>6.727466</td>\n",
              "      <td>-16.760583</td>\n",
              "      <td>8.425832</td>\n",
              "      <td>-10.252697</td>\n",
              "      <td>-4.192171</td>\n",
              "      <td>-14.077086</td>\n",
              "      <td>7.168288</td>\n",
              "      <td>-3.683242</td>\n",
              "      <td>...</td>\n",
              "      <td>2.541637</td>\n",
              "      <td>0.135535</td>\n",
              "      <td>-1.023967</td>\n",
              "      <td>0.406265</td>\n",
              "      <td>0.106593</td>\n",
              "      <td>-0.026232</td>\n",
              "      <td>-1.464630</td>\n",
              "      <td>-0.411682</td>\n",
              "      <td>78.00</td>\n",
              "      <td>1</td>\n",
              "    </tr>\n",
              "    <tr>\n",
              "      <th>150669</th>\n",
              "      <td>93860.0</td>\n",
              "      <td>-10.632375</td>\n",
              "      <td>7.251936</td>\n",
              "      <td>-17.681072</td>\n",
              "      <td>8.204144</td>\n",
              "      <td>-10.166591</td>\n",
              "      <td>-4.510344</td>\n",
              "      <td>-12.981606</td>\n",
              "      <td>6.783589</td>\n",
              "      <td>-4.659330</td>\n",
              "      <td>...</td>\n",
              "      <td>2.715357</td>\n",
              "      <td>0.695603</td>\n",
              "      <td>-1.138122</td>\n",
              "      <td>0.459442</td>\n",
              "      <td>0.386337</td>\n",
              "      <td>0.522438</td>\n",
              "      <td>-1.416604</td>\n",
              "      <td>-0.488307</td>\n",
              "      <td>188.52</td>\n",
              "      <td>1</td>\n",
              "    </tr>\n",
              "    <tr>\n",
              "      <th>150678</th>\n",
              "      <td>93879.0</td>\n",
              "      <td>-13.086519</td>\n",
              "      <td>7.352148</td>\n",
              "      <td>-18.256576</td>\n",
              "      <td>10.648505</td>\n",
              "      <td>-11.731476</td>\n",
              "      <td>-3.659167</td>\n",
              "      <td>-14.873658</td>\n",
              "      <td>8.810473</td>\n",
              "      <td>-5.418204</td>\n",
              "      <td>...</td>\n",
              "      <td>2.761157</td>\n",
              "      <td>-0.266162</td>\n",
              "      <td>-0.412861</td>\n",
              "      <td>0.519952</td>\n",
              "      <td>-0.743909</td>\n",
              "      <td>-0.167808</td>\n",
              "      <td>-2.498300</td>\n",
              "      <td>-0.711066</td>\n",
              "      <td>30.31</td>\n",
              "      <td>1</td>\n",
              "    </tr>\n",
              "    <tr>\n",
              "      <th>150680</th>\n",
              "      <td>93879.0</td>\n",
              "      <td>-12.833631</td>\n",
              "      <td>7.508790</td>\n",
              "      <td>-20.491952</td>\n",
              "      <td>7.465780</td>\n",
              "      <td>-11.575304</td>\n",
              "      <td>-5.140999</td>\n",
              "      <td>-14.020564</td>\n",
              "      <td>8.332120</td>\n",
              "      <td>-4.337713</td>\n",
              "      <td>...</td>\n",
              "      <td>2.966842</td>\n",
              "      <td>0.615344</td>\n",
              "      <td>-0.766495</td>\n",
              "      <td>0.431261</td>\n",
              "      <td>-0.104975</td>\n",
              "      <td>-0.010091</td>\n",
              "      <td>-2.400811</td>\n",
              "      <td>-0.720557</td>\n",
              "      <td>104.03</td>\n",
              "      <td>1</td>\n",
              "    </tr>\n",
              "    <tr>\n",
              "      <th>151007</th>\n",
              "      <td>94362.0</td>\n",
              "      <td>-26.457745</td>\n",
              "      <td>16.497472</td>\n",
              "      <td>-30.177317</td>\n",
              "      <td>8.904157</td>\n",
              "      <td>-17.892600</td>\n",
              "      <td>-1.227904</td>\n",
              "      <td>-31.197329</td>\n",
              "      <td>-11.438920</td>\n",
              "      <td>-9.462573</td>\n",
              "      <td>...</td>\n",
              "      <td>-8.755698</td>\n",
              "      <td>3.460893</td>\n",
              "      <td>0.896538</td>\n",
              "      <td>0.254836</td>\n",
              "      <td>-0.738097</td>\n",
              "      <td>-0.966564</td>\n",
              "      <td>-7.263482</td>\n",
              "      <td>-1.324884</td>\n",
              "      <td>1.00</td>\n",
              "      <td>1</td>\n",
              "    </tr>\n",
              "    <tr>\n",
              "      <th>151008</th>\n",
              "      <td>94362.0</td>\n",
              "      <td>-26.457745</td>\n",
              "      <td>16.497472</td>\n",
              "      <td>-30.177317</td>\n",
              "      <td>8.904157</td>\n",
              "      <td>-17.892600</td>\n",
              "      <td>-1.227904</td>\n",
              "      <td>-31.197329</td>\n",
              "      <td>-11.438920</td>\n",
              "      <td>-9.462573</td>\n",
              "      <td>...</td>\n",
              "      <td>-8.755698</td>\n",
              "      <td>3.460893</td>\n",
              "      <td>0.896538</td>\n",
              "      <td>0.254836</td>\n",
              "      <td>-0.738097</td>\n",
              "      <td>-0.966564</td>\n",
              "      <td>-7.263482</td>\n",
              "      <td>-1.324884</td>\n",
              "      <td>1.00</td>\n",
              "      <td>1</td>\n",
              "    </tr>\n",
              "    <tr>\n",
              "      <th>151009</th>\n",
              "      <td>94362.0</td>\n",
              "      <td>-26.457745</td>\n",
              "      <td>16.497472</td>\n",
              "      <td>-30.177317</td>\n",
              "      <td>8.904157</td>\n",
              "      <td>-17.892600</td>\n",
              "      <td>-1.227904</td>\n",
              "      <td>-31.197329</td>\n",
              "      <td>-11.438920</td>\n",
              "      <td>-9.462573</td>\n",
              "      <td>...</td>\n",
              "      <td>-8.755698</td>\n",
              "      <td>3.460893</td>\n",
              "      <td>0.896538</td>\n",
              "      <td>0.254836</td>\n",
              "      <td>-0.738097</td>\n",
              "      <td>-0.966564</td>\n",
              "      <td>-7.263482</td>\n",
              "      <td>-1.324884</td>\n",
              "      <td>1.00</td>\n",
              "      <td>1</td>\n",
              "    </tr>\n",
              "    <tr>\n",
              "      <th>234633</th>\n",
              "      <td>148053.0</td>\n",
              "      <td>1.261324</td>\n",
              "      <td>2.726800</td>\n",
              "      <td>-5.435019</td>\n",
              "      <td>5.342759</td>\n",
              "      <td>1.447043</td>\n",
              "      <td>-1.442584</td>\n",
              "      <td>-0.898702</td>\n",
              "      <td>0.123062</td>\n",
              "      <td>-2.748496</td>\n",
              "      <td>...</td>\n",
              "      <td>0.209086</td>\n",
              "      <td>-0.425938</td>\n",
              "      <td>-0.154440</td>\n",
              "      <td>-0.018820</td>\n",
              "      <td>0.632234</td>\n",
              "      <td>0.192922</td>\n",
              "      <td>0.468181</td>\n",
              "      <td>0.280486</td>\n",
              "      <td>1.59</td>\n",
              "      <td>1</td>\n",
              "    </tr>\n",
              "  </tbody>\n",
              "</table>\n",
              "<p>19 rows × 31 columns</p>\n",
              "</div>"
            ],
            "text/plain": [
              "            Time         V1         V2         V3         V4         V5  \\\n",
              "102442   68207.0 -13.192671  12.785971  -9.906650   3.320337  -4.801176   \n",
              "102443   68207.0 -13.192671  12.785971  -9.906650   3.320337  -4.801176   \n",
              "102444   68207.0 -13.192671  12.785971  -9.906650   3.320337  -4.801176   \n",
              "102445   68207.0 -13.192671  12.785971  -9.906650   3.320337  -4.801176   \n",
              "102446   68207.0 -13.192671  12.785971  -9.906650   3.320337  -4.801176   \n",
              "141258   84204.0  -0.937843   3.462889  -6.445104   4.932199  -2.233983   \n",
              "141260   84204.0  -1.927453   1.827621  -7.019495   5.348303  -2.739188   \n",
              "143334   85285.0  -7.030308   3.421991  -9.525072   5.270891  -4.024630   \n",
              "143336   85285.0  -6.713407   3.921104  -9.746678   5.148263  -5.151563   \n",
              "150661   93853.0  -6.185857   7.102985 -13.030455   8.010823  -7.885237   \n",
              "150663   93853.0  -5.839192   7.151532 -12.816760   7.031115  -9.651272   \n",
              "150667   93860.0 -10.850282   6.727466 -16.760583   8.425832 -10.252697   \n",
              "150669   93860.0 -10.632375   7.251936 -17.681072   8.204144 -10.166591   \n",
              "150678   93879.0 -13.086519   7.352148 -18.256576  10.648505 -11.731476   \n",
              "150680   93879.0 -12.833631   7.508790 -20.491952   7.465780 -11.575304   \n",
              "151007   94362.0 -26.457745  16.497472 -30.177317   8.904157 -17.892600   \n",
              "151008   94362.0 -26.457745  16.497472 -30.177317   8.904157 -17.892600   \n",
              "151009   94362.0 -26.457745  16.497472 -30.177317   8.904157 -17.892600   \n",
              "234633  148053.0   1.261324   2.726800  -5.435019   5.342759   1.447043   \n",
              "\n",
              "              V6         V7         V8        V9  ...        V21       V22  \\\n",
              "102442  5.760059 -18.750889 -37.353443 -0.391540  ...  27.202839 -8.887017   \n",
              "102443  5.760059 -18.750889 -37.353443 -0.391540  ...  27.202839 -8.887017   \n",
              "102444  5.760059 -18.750889 -37.353443 -0.391540  ...  27.202839 -8.887017   \n",
              "102445  5.760059 -18.750889 -37.353443 -0.391540  ...  27.202839 -8.887017   \n",
              "102446  5.760059 -18.750889 -37.353443 -0.391540  ...  27.202839 -8.887017   \n",
              "141258 -2.291561  -5.695594   1.338825 -4.322377  ...   1.066550 -0.521657   \n",
              "141260 -2.107219  -5.015848   1.205868 -4.382713  ...   1.376938 -0.792017   \n",
              "143334 -2.865682  -6.989195   3.791551 -4.622730  ...   1.103398 -0.541855   \n",
              "143336 -2.099389  -5.937767   3.578780 -4.684952  ...   0.954272 -0.451086   \n",
              "150661 -3.974550 -12.229608   4.971232 -4.248307  ...   2.502772  0.481691   \n",
              "150663 -2.938427 -11.543207   4.843627 -3.494276  ...   2.462056  1.054865   \n",
              "150667 -4.192171 -14.077086   7.168288 -3.683242  ...   2.541637  0.135535   \n",
              "150669 -4.510344 -12.981606   6.783589 -4.659330  ...   2.715357  0.695603   \n",
              "150678 -3.659167 -14.873658   8.810473 -5.418204  ...   2.761157 -0.266162   \n",
              "150680 -5.140999 -14.020564   8.332120 -4.337713  ...   2.966842  0.615344   \n",
              "151007 -1.227904 -31.197329 -11.438920 -9.462573  ...  -8.755698  3.460893   \n",
              "151008 -1.227904 -31.197329 -11.438920 -9.462573  ...  -8.755698  3.460893   \n",
              "151009 -1.227904 -31.197329 -11.438920 -9.462573  ...  -8.755698  3.460893   \n",
              "234633 -1.442584  -0.898702   0.123062 -2.748496  ...   0.209086 -0.425938   \n",
              "\n",
              "             V23       V24       V25       V26       V27       V28  Amount  \\\n",
              "102442  5.303607 -0.639435  0.263203 -0.108877  1.269566  0.939407    1.00   \n",
              "102443  5.303607 -0.639435  0.263203 -0.108877  1.269566  0.939407    1.00   \n",
              "102444  5.303607 -0.639435  0.263203 -0.108877  1.269566  0.939407    1.00   \n",
              "102445  5.303607 -0.639435  0.263203 -0.108877  1.269566  0.939407    1.00   \n",
              "102446  5.303607 -0.639435  0.263203 -0.108877  1.269566  0.939407    1.00   \n",
              "141258 -0.319917 -0.405859  0.906802  1.165784  1.374495  0.729889    0.00   \n",
              "141260 -0.771414 -0.379574  0.718717  1.111151  1.277707  0.819081  512.25   \n",
              "143334  0.036943 -0.355519  0.353634  1.042458  1.359516 -0.272188    0.00   \n",
              "143336  0.127214 -0.339450  0.394096  1.075295  1.649906 -0.394905  252.92   \n",
              "150661  0.480958  0.360319 -0.293354 -0.199193 -0.203917  0.398927   44.90   \n",
              "150663  0.530481  0.472670 -0.275998  0.282435  0.104886  0.254417  316.06   \n",
              "150667 -1.023967  0.406265  0.106593 -0.026232 -1.464630 -0.411682   78.00   \n",
              "150669 -1.138122  0.459442  0.386337  0.522438 -1.416604 -0.488307  188.52   \n",
              "150678 -0.412861  0.519952 -0.743909 -0.167808 -2.498300 -0.711066   30.31   \n",
              "150680 -0.766495  0.431261 -0.104975 -0.010091 -2.400811 -0.720557  104.03   \n",
              "151007  0.896538  0.254836 -0.738097 -0.966564 -7.263482 -1.324884    1.00   \n",
              "151008  0.896538  0.254836 -0.738097 -0.966564 -7.263482 -1.324884    1.00   \n",
              "151009  0.896538  0.254836 -0.738097 -0.966564 -7.263482 -1.324884    1.00   \n",
              "234633 -0.154440 -0.018820  0.632234  0.192922  0.468181  0.280486    1.59   \n",
              "\n",
              "        Class  \n",
              "102442      1  \n",
              "102443      1  \n",
              "102444      1  \n",
              "102445      1  \n",
              "102446      1  \n",
              "141258      1  \n",
              "141260      1  \n",
              "143334      1  \n",
              "143336      1  \n",
              "150661      1  \n",
              "150663      1  \n",
              "150667      1  \n",
              "150669      1  \n",
              "150678      1  \n",
              "150680      1  \n",
              "151007      1  \n",
              "151008      1  \n",
              "151009      1  \n",
              "234633      1  \n",
              "\n",
              "[19 rows x 31 columns]"
            ]
          },
          "metadata": {
            "tags": []
          },
          "execution_count": 3
        }
      ]
    },
    {
      "cell_type": "markdown",
      "metadata": {
        "id": "wiyTeuZtDQ96"
      },
      "source": [
        "# Dimension reductionality techniques\n",
        "\n",
        "`Missing Values Ratio:`\n",
        "  * Data columns with too many missing values are unlikely to carry much useful information. Thus data columns with number of missing values greater than a given threshold can be removed. The higher the threshold, the more aggressive the reduction.\n",
        "\n",
        "`Low Variance Filter:`\n",
        "- Similarly to the previous technique, data columns with little changes in the data carry little information. Thus all data columns with variance lower than a given threshold are removed. A word of caution: variance is range dependent; therefore normalization is required before applying this technique.\n",
        "   \n",
        "`High Correlation Filter:`\n",
        "- Data columns with very similar trends are also likely to carry very similar information. In this case, only one of them will suffice to feed the machine learning model. Here we calculate the correlation coefficient between numerical columns and between nominal columns as the Pearson’s Product Moment Coefficient and the Pearson’s chi square value respectively. Pairs of columns with correlation coefficient higher than a threshold are reduced to only one. A word of caution: correlation is scale sensitive; therefore column normalization is required for a meaningful correlation comparison.\n",
        "\n",
        "`Backward Feature Elimination:`\n",
        "- In this technique, at a given iteration, the selected classification algorithm is trained on n input features. Then we remove one input feature at a time and train the same model on n-1 input features n times. The input feature whose removal has produced the smallest increase in the error rate is removed, leaving us with n-1 input features. The classification is then repeated using n-2 features, and so on. Each iteration k produces a model trained on n-k features and an error rate e(k). Selecting the maximum tolerable error rate, we define the smallest number of features necessary to reach that classification performance with the selected machine learning algorithm.\n",
        "\n",
        "`Forward Feature Construction:`\n",
        "- This is the inverse process to the Backward Feature Elimination. We start with 1 feature only, progressively adding 1 feature at a time, i.e. the feature that produces the highest increase in performance.\n",
        "\n",
        "Both algorithms, Backward Feature Elimination and Forward Feature Construction, are quite time and computationally expensive. They are practically only applicable to a data set with an already relatively low number of input columns."
      ]
    },
    {
      "cell_type": "markdown",
      "metadata": {
        "id": "yIz5lvXRDQ96"
      },
      "source": [
        "\n",
        "# Getting ready to plot data"
      ]
    },
    {
      "cell_type": "code",
      "metadata": {
        "id": "QZtlZwrkDQ96"
      },
      "source": [
        "# Plotting the data - .plot(...) for line & .scatter(...) for scatter\n",
        "\n",
        "def plotFeatures(trainingSet, feature1, feature2):\n",
        "    \n",
        "    fraud = trainingSet[trainingSet.Class == 1]\n",
        "    non_fraud = trainingSet[trainingSet.Class == 0]\n",
        "    \n",
        "    # Input features to plot\n",
        "    plt.scatter(fraud[feature1], fraud[feature2])\n",
        "    plt.scatter(non_fraud[feature1], non_fraud[feature2])\n",
        "    \n",
        "    # label the axis\n",
        "    plt.xlabel(feature1)\n",
        "    plt.ylabel(feature2)\n",
        "    \n",
        "    # Create legend\n",
        "    plt.legend([\"Fraud\", \"Non-fraud\"])\n",
        "    \n",
        "    # Display\n",
        "    plt.show()"
      ],
      "execution_count": null,
      "outputs": []
    },
    {
      "cell_type": "code",
      "metadata": {
        "id": "IhLwnyEDDQ96",
        "outputId": "5fa7609e-9647-491a-8d58-2d75ea5b1ba5"
      },
      "source": [
        "plotFeatures(transactions ,'Time', 'Amount')"
      ],
      "execution_count": null,
      "outputs": [
        {
          "output_type": "display_data",
          "data": {
            "image/png": "[encoded data removed]",
            "text/plain": [
              "<Figure size 432x288 with 1 Axes>"
            ]
          },
          "metadata": {
            "tags": [],
            "needs_background": "light"
          }
        }
      ]
    },
    {
      "cell_type": "markdown",
      "metadata": {
        "id": "Ff9it8lsDQ96"
      },
      "source": [
        "## We're going to selct features using a `high correlation filter`:\n",
        "- Data columns with very similar trends are also likely to carry very similar information. In this case, only one of them will suffice to feed the machine learning model. Here we calculate the correlation coefficient between numerical columns and between nominal columns as the Pearson’s Product Moment Coefficient and the Pearson’s chi square value respectively. \n",
        "- Correlation is scale sensitive; therefore column standardization is required for a meaningful correlation comparison.\n",
        "\n",
        "# Column standardization"
      ]
    },
    {
      "cell_type": "code",
      "metadata": {
        "id": "4-rZVP3PDQ96",
        "outputId": "cd8aff83-1382-4787-9339-42b61565dbc5"
      },
      "source": [
        "# Lets see the distribution for time and amount before\n",
        "transactions['Time'].hist()\n",
        "\n",
        "plt.show()"
      ],
      "execution_count": null,
      "outputs": [
        {
          "output_type": "display_data",
          "data": {
            "image/png": "[encoded data removed]",
            "text/plain": [
              "<Figure size 432x288 with 1 Axes>"
            ]
          },
          "metadata": {
            "tags": [],
            "needs_background": "light"
          }
        }
      ]
    },
    {
      "cell_type": "code",
      "metadata": {
        "id": "SOpoh_lMDQ96"
      },
      "source": [
        "def standardiseColumn(columnName: str, trainingSet: pd.DataFrame):\n",
        "    \n",
        "    # get the lower and upper quartiles and calculate the interquartile range\n",
        "    LQ, UQ = trainingSet[columnName].quantile([0.25, 0.75])\n",
        "    IQR = UQ - LQ\n",
        "    \n",
        "    # and then get median of the column\n",
        "    median = trainingSet[columnName].median()\n",
        "    \n",
        "    # get all the column values - which are stored in the float64 type\n",
        "    vals = trainingSet[columnName].values\n",
        "    \n",
        "    # standardise every value in the column:\n",
        "    scaledVals = list(map(lambda vals: (float(vals) - median) / IQR, vals))\n",
        "        \n",
        "    # convert the scaled array into the dataFrame\n",
        "    trainingSet[columnName + '_Scaled'] = pd.DataFrame(scaledVals)"
      ],
      "execution_count": null,
      "outputs": []
    },
    {
      "cell_type": "code",
      "metadata": {
        "id": "-9lPJtEVDQ96",
        "outputId": "b17ecac3-da4e-49f3-848d-84103db4b2f1"
      },
      "source": [
        "standardiseColumn('Amount', transactions)\n",
        "standardiseColumn('Time', transactions)\n",
        "\n",
        "# Now lets see how the distribution for time has changed\n",
        "\n",
        "plt.subplot(1, 3, 1)\n",
        "transactions['Time_Scaled'].hist()\n",
        "\n",
        "plt.subplot(1, 3, 3)\n",
        "transactions['Amount_Scaled'].hist(color='r')\n",
        "\n",
        "plt.show()"
      ],
      "execution_count": null,
      "outputs": [
        {
          "output_type": "display_data",
          "data": {
            "image/png": "[encoded data removed]",
            "text/plain": [
              "<Figure size 432x288 with 2 Axes>"
            ]
          },
          "metadata": {
            "tags": [],
            "needs_background": "light"
          }
        }
      ]
    },
    {
      "cell_type": "code",
      "metadata": {
        "id": "MA1--zZZDQ96"
      },
      "source": [
        "# standardise every value for correlation analysis\n",
        "\n",
        "standardiseColumn('Amount', transactions)\n",
        "standardiseColumn('Time', transactions)"
      ],
      "execution_count": null,
      "outputs": []
    },
    {
      "cell_type": "code",
      "metadata": {
        "id": "Pvp7jHPHDQ96",
        "outputId": "51c90e4b-f157-45fc-ed01-4dc2bcc1647f"
      },
      "source": [
        "transactions.describe()"
      ],
      "execution_count": null,
      "outputs": [
        {
          "output_type": "execute_result",
          "data": {
            "text/html": [
              "<div>\n",
              "<style scoped>\n",
              "    .dataframe tbody tr th:only-of-type {\n",
              "        vertical-align: middle;\n",
              "    }\n",
              "\n",
              "    .dataframe tbody tr th {\n",
              "        vertical-align: top;\n",
              "    }\n",
              "\n",
              "    .dataframe thead th {\n",
              "        text-align: right;\n",
              "    }\n",
              "</style>\n",
              "<table border=\"1\" class=\"dataframe\">\n",
              "  <thead>\n",
              "    <tr style=\"text-align: right;\">\n",
              "      <th></th>\n",
              "      <th>Time</th>\n",
              "      <th>V1</th>\n",
              "      <th>V2</th>\n",
              "      <th>V3</th>\n",
              "      <th>V4</th>\n",
              "      <th>V5</th>\n",
              "      <th>V6</th>\n",
              "      <th>V7</th>\n",
              "      <th>V8</th>\n",
              "      <th>V9</th>\n",
              "      <th>...</th>\n",
              "      <th>V23</th>\n",
              "      <th>V24</th>\n",
              "      <th>V25</th>\n",
              "      <th>V26</th>\n",
              "      <th>V27</th>\n",
              "      <th>V28</th>\n",
              "      <th>Amount</th>\n",
              "      <th>Class</th>\n",
              "      <th>Amount_Scaled</th>\n",
              "      <th>Time_Scaled</th>\n",
              "    </tr>\n",
              "  </thead>\n",
              "  <tbody>\n",
              "    <tr>\n",
              "      <th>count</th>\n",
              "      <td>284807.000000</td>\n",
              "      <td>2.848070e+05</td>\n",
              "      <td>2.848070e+05</td>\n",
              "      <td>2.848070e+05</td>\n",
              "      <td>2.848070e+05</td>\n",
              "      <td>2.848070e+05</td>\n",
              "      <td>2.848070e+05</td>\n",
              "      <td>2.848070e+05</td>\n",
              "      <td>2.848070e+05</td>\n",
              "      <td>2.848070e+05</td>\n",
              "      <td>...</td>\n",
              "      <td>2.848070e+05</td>\n",
              "      <td>2.848070e+05</td>\n",
              "      <td>2.848070e+05</td>\n",
              "      <td>2.848070e+05</td>\n",
              "      <td>2.848070e+05</td>\n",
              "      <td>2.848070e+05</td>\n",
              "      <td>284807.000000</td>\n",
              "      <td>284807.000000</td>\n",
              "      <td>284807.000000</td>\n",
              "      <td>284807.000000</td>\n",
              "    </tr>\n",
              "    <tr>\n",
              "      <th>mean</th>\n",
              "      <td>94813.859575</td>\n",
              "      <td>3.919560e-15</td>\n",
              "      <td>5.688174e-16</td>\n",
              "      <td>-8.769071e-15</td>\n",
              "      <td>2.782312e-15</td>\n",
              "      <td>-1.552563e-15</td>\n",
              "      <td>2.010663e-15</td>\n",
              "      <td>-1.694249e-15</td>\n",
              "      <td>-1.927028e-16</td>\n",
              "      <td>-3.137024e-15</td>\n",
              "      <td>...</td>\n",
              "      <td>5.367590e-16</td>\n",
              "      <td>4.458112e-15</td>\n",
              "      <td>1.453003e-15</td>\n",
              "      <td>1.699104e-15</td>\n",
              "      <td>-3.660161e-16</td>\n",
              "      <td>-1.206049e-16</td>\n",
              "      <td>88.349619</td>\n",
              "      <td>0.001727</td>\n",
              "      <td>0.927124</td>\n",
              "      <td>0.118914</td>\n",
              "    </tr>\n",
              "    <tr>\n",
              "      <th>std</th>\n",
              "      <td>47488.145955</td>\n",
              "      <td>1.958696e+00</td>\n",
              "      <td>1.651309e+00</td>\n",
              "      <td>1.516255e+00</td>\n",
              "      <td>1.415869e+00</td>\n",
              "      <td>1.380247e+00</td>\n",
              "      <td>1.332271e+00</td>\n",
              "      <td>1.237094e+00</td>\n",
              "      <td>1.194353e+00</td>\n",
              "      <td>1.098632e+00</td>\n",
              "      <td>...</td>\n",
              "      <td>6.244603e-01</td>\n",
              "      <td>6.056471e-01</td>\n",
              "      <td>5.212781e-01</td>\n",
              "      <td>4.822270e-01</td>\n",
              "      <td>4.036325e-01</td>\n",
              "      <td>3.300833e-01</td>\n",
              "      <td>250.120109</td>\n",
              "      <td>0.041527</td>\n",
              "      <td>3.495006</td>\n",
              "      <td>0.557903</td>\n",
              "    </tr>\n",
              "    <tr>\n",
              "      <th>min</th>\n",
              "      <td>0.000000</td>\n",
              "      <td>-5.640751e+01</td>\n",
              "      <td>-7.271573e+01</td>\n",
              "      <td>-4.832559e+01</td>\n",
              "      <td>-5.683171e+00</td>\n",
              "      <td>-1.137433e+02</td>\n",
              "      <td>-2.616051e+01</td>\n",
              "      <td>-4.355724e+01</td>\n",
              "      <td>-7.321672e+01</td>\n",
              "      <td>-1.343407e+01</td>\n",
              "      <td>...</td>\n",
              "      <td>-4.480774e+01</td>\n",
              "      <td>-2.836627e+00</td>\n",
              "      <td>-1.029540e+01</td>\n",
              "      <td>-2.604551e+00</td>\n",
              "      <td>-2.256568e+01</td>\n",
              "      <td>-1.543008e+01</td>\n",
              "      <td>0.000000</td>\n",
              "      <td>0.000000</td>\n",
              "      <td>-0.307413</td>\n",
              "      <td>-0.994983</td>\n",
              "    </tr>\n",
              "    <tr>\n",
              "      <th>25%</th>\n",
              "      <td>54201.500000</td>\n",
              "      <td>-9.203734e-01</td>\n",
              "      <td>-5.985499e-01</td>\n",
              "      <td>-8.903648e-01</td>\n",
              "      <td>-8.486401e-01</td>\n",
              "      <td>-6.915971e-01</td>\n",
              "      <td>-7.682956e-01</td>\n",
              "      <td>-5.540759e-01</td>\n",
              "      <td>-2.086297e-01</td>\n",
              "      <td>-6.430976e-01</td>\n",
              "      <td>...</td>\n",
              "      <td>-1.618463e-01</td>\n",
              "      <td>-3.545861e-01</td>\n",
              "      <td>-3.171451e-01</td>\n",
              "      <td>-3.269839e-01</td>\n",
              "      <td>-7.083953e-02</td>\n",
              "      <td>-5.295979e-02</td>\n",
              "      <td>5.600000</td>\n",
              "      <td>0.000000</td>\n",
              "      <td>-0.229162</td>\n",
              "      <td>-0.358210</td>\n",
              "    </tr>\n",
              "    <tr>\n",
              "      <th>50%</th>\n",
              "      <td>84692.000000</td>\n",
              "      <td>1.810880e-02</td>\n",
              "      <td>6.548556e-02</td>\n",
              "      <td>1.798463e-01</td>\n",
              "      <td>-1.984653e-02</td>\n",
              "      <td>-5.433583e-02</td>\n",
              "      <td>-2.741871e-01</td>\n",
              "      <td>4.010308e-02</td>\n",
              "      <td>2.235804e-02</td>\n",
              "      <td>-5.142873e-02</td>\n",
              "      <td>...</td>\n",
              "      <td>-1.119293e-02</td>\n",
              "      <td>4.097606e-02</td>\n",
              "      <td>1.659350e-02</td>\n",
              "      <td>-5.213911e-02</td>\n",
              "      <td>1.342146e-03</td>\n",
              "      <td>1.124383e-02</td>\n",
              "      <td>22.000000</td>\n",
              "      <td>0.000000</td>\n",
              "      <td>0.000000</td>\n",
              "      <td>0.000000</td>\n",
              "    </tr>\n",
              "    <tr>\n",
              "      <th>75%</th>\n",
              "      <td>139320.500000</td>\n",
              "      <td>1.315642e+00</td>\n",
              "      <td>8.037239e-01</td>\n",
              "      <td>1.027196e+00</td>\n",
              "      <td>7.433413e-01</td>\n",
              "      <td>6.119264e-01</td>\n",
              "      <td>3.985649e-01</td>\n",
              "      <td>5.704361e-01</td>\n",
              "      <td>3.273459e-01</td>\n",
              "      <td>5.971390e-01</td>\n",
              "      <td>...</td>\n",
              "      <td>1.476421e-01</td>\n",
              "      <td>4.395266e-01</td>\n",
              "      <td>3.507156e-01</td>\n",
              "      <td>2.409522e-01</td>\n",
              "      <td>9.104512e-02</td>\n",
              "      <td>7.827995e-02</td>\n",
              "      <td>77.165000</td>\n",
              "      <td>0.000000</td>\n",
              "      <td>0.770838</td>\n",
              "      <td>0.641790</td>\n",
              "    </tr>\n",
              "    <tr>\n",
              "      <th>max</th>\n",
              "      <td>172792.000000</td>\n",
              "      <td>2.454930e+00</td>\n",
              "      <td>2.205773e+01</td>\n",
              "      <td>9.382558e+00</td>\n",
              "      <td>1.687534e+01</td>\n",
              "      <td>3.480167e+01</td>\n",
              "      <td>7.330163e+01</td>\n",
              "      <td>1.205895e+02</td>\n",
              "      <td>2.000721e+01</td>\n",
              "      <td>1.559499e+01</td>\n",
              "      <td>...</td>\n",
              "      <td>2.252841e+01</td>\n",
              "      <td>4.584549e+00</td>\n",
              "      <td>7.519589e+00</td>\n",
              "      <td>3.517346e+00</td>\n",
              "      <td>3.161220e+01</td>\n",
              "      <td>3.384781e+01</td>\n",
              "      <td>25691.160000</td>\n",
              "      <td>1.000000</td>\n",
              "      <td>358.683155</td>\n",
              "      <td>1.035022</td>\n",
              "    </tr>\n",
              "  </tbody>\n",
              "</table>\n",
              "<p>8 rows × 33 columns</p>\n",
              "</div>"
            ],
            "text/plain": [
              "                Time            V1            V2            V3            V4  \\\n",
              "count  284807.000000  2.848070e+05  2.848070e+05  2.848070e+05  2.848070e+05   \n",
              "mean    94813.859575  3.919560e-15  5.688174e-16 -8.769071e-15  2.782312e-15   \n",
              "std     47488.145955  1.958696e+00  1.651309e+00  1.516255e+00  1.415869e+00   \n",
              "min         0.000000 -5.640751e+01 -7.271573e+01 -4.832559e+01 -5.683171e+00   \n",
              "25%     54201.500000 -9.203734e-01 -5.985499e-01 -8.903648e-01 -8.486401e-01   \n",
              "50%     84692.000000  1.810880e-02  6.548556e-02  1.798463e-01 -1.984653e-02   \n",
              "75%    139320.500000  1.315642e+00  8.037239e-01  1.027196e+00  7.433413e-01   \n",
              "max    172792.000000  2.454930e+00  2.205773e+01  9.382558e+00  1.687534e+01   \n",
              "\n",
              "                 V5            V6            V7            V8            V9  \\\n",
              "count  2.848070e+05  2.848070e+05  2.848070e+05  2.848070e+05  2.848070e+05   \n",
              "mean  -1.552563e-15  2.010663e-15 -1.694249e-15 -1.927028e-16 -3.137024e-15   \n",
              "std    1.380247e+00  1.332271e+00  1.237094e+00  1.194353e+00  1.098632e+00   \n",
              "min   -1.137433e+02 -2.616051e+01 -4.355724e+01 -7.321672e+01 -1.343407e+01   \n",
              "25%   -6.915971e-01 -7.682956e-01 -5.540759e-01 -2.086297e-01 -6.430976e-01   \n",
              "50%   -5.433583e-02 -2.741871e-01  4.010308e-02  2.235804e-02 -5.142873e-02   \n",
              "75%    6.119264e-01  3.985649e-01  5.704361e-01  3.273459e-01  5.971390e-01   \n",
              "max    3.480167e+01  7.330163e+01  1.205895e+02  2.000721e+01  1.559499e+01   \n",
              "\n",
              "       ...           V23           V24           V25           V26  \\\n",
              "count  ...  2.848070e+05  2.848070e+05  2.848070e+05  2.848070e+05   \n",
              "mean   ...  5.367590e-16  4.458112e-15  1.453003e-15  1.699104e-15   \n",
              "std    ...  6.244603e-01  6.056471e-01  5.212781e-01  4.822270e-01   \n",
              "min    ... -4.480774e+01 -2.836627e+00 -1.029540e+01 -2.604551e+00   \n",
              "25%    ... -1.618463e-01 -3.545861e-01 -3.171451e-01 -3.269839e-01   \n",
              "50%    ... -1.119293e-02  4.097606e-02  1.659350e-02 -5.213911e-02   \n",
              "75%    ...  1.476421e-01  4.395266e-01  3.507156e-01  2.409522e-01   \n",
              "max    ...  2.252841e+01  4.584549e+00  7.519589e+00  3.517346e+00   \n",
              "\n",
              "                V27           V28         Amount          Class  \\\n",
              "count  2.848070e+05  2.848070e+05  284807.000000  284807.000000   \n",
              "mean  -3.660161e-16 -1.206049e-16      88.349619       0.001727   \n",
              "std    4.036325e-01  3.300833e-01     250.120109       0.041527   \n",
              "min   -2.256568e+01 -1.543008e+01       0.000000       0.000000   \n",
              "25%   -7.083953e-02 -5.295979e-02       5.600000       0.000000   \n",
              "50%    1.342146e-03  1.124383e-02      22.000000       0.000000   \n",
              "75%    9.104512e-02  7.827995e-02      77.165000       0.000000   \n",
              "max    3.161220e+01  3.384781e+01   25691.160000       1.000000   \n",
              "\n",
              "       Amount_Scaled    Time_Scaled  \n",
              "count  284807.000000  284807.000000  \n",
              "mean        0.927124       0.118914  \n",
              "std         3.495006       0.557903  \n",
              "min        -0.307413      -0.994983  \n",
              "25%        -0.229162      -0.358210  \n",
              "50%         0.000000       0.000000  \n",
              "75%         0.770838       0.641790  \n",
              "max       358.683155       1.035022  \n",
              "\n",
              "[8 rows x 33 columns]"
            ]
          },
          "metadata": {
            "tags": []
          },
          "execution_count": 10
        }
      ]
    },
    {
      "cell_type": "markdown",
      "metadata": {
        "id": "zvfY5UWVDQ96"
      },
      "source": [
        "# Correlation analysis\n",
        "- Make a function which inputs a training set and outputs heatmap of a correlation matrix between the variables\n",
        "- We can make this a heatmap to visually find features which correlate highly to class"
      ]
    },
    {
      "cell_type": "code",
      "metadata": {
        "id": "0DpmJvVDDQ96"
      },
      "source": [
        "def correlationMatrix(trainingSet):\n",
        "    \n",
        "    # create a large display\n",
        "    fig = plt.figure(figsize=(20, 15))\n",
        "    plt.matshow(trainingSet.corr(), cmap='coolwarm_r', fignum=fig.number)\n",
        "\n",
        "    # number of features\n",
        "    featuresCount = trainingSet.shape[1]\n",
        "\n",
        "    plt.xticks(range(featuresCount), trainingSet.columns, rotation=\"55\")\n",
        "    plt.yticks(range(featuresCount), trainingSet.columns)\n",
        "\n",
        "    plt.colorbar()\n",
        "    plt.show()"
      ],
      "execution_count": null,
      "outputs": []
    },
    {
      "cell_type": "markdown",
      "metadata": {
        "id": "GgqAzxmJDQ96"
      },
      "source": [
        "# Lets create our first training set\n",
        "- We are going to balance the dataset for our first training set\n",
        "- Make the correlation matrix"
      ]
    },
    {
      "cell_type": "code",
      "metadata": {
        "id": "m2IkC8OtDQ96",
        "outputId": "a5220be3-19c8-4261-bbd1-5142042610ea"
      },
      "source": [
        "# Separating the portion of records that were fraulent\n",
        "fraud = transactions[transactions.Class == 1]\n",
        "\n",
        "# Get the amount of fraudulent records\n",
        "fraudCount = len(fraud)\n",
        "\n",
        "# Take the random sample of non-fraudulent records\n",
        "non_fraud = transactions[transactions.Class == 0].sample(fraudCount)\n",
        "\n",
        "frames = [fraud, non_fraud]\n",
        "dataset = pd.concat(frames) \n",
        "\n",
        "# drop unscaled Amount and Time for correlation analysis\n",
        "dataset = dataset.drop(['Time', 'Amount'], axis = 1)\n",
        "\n",
        "correlationMatrix(dataset)"
      ],
      "execution_count": null,
      "outputs": [
        {
          "output_type": "display_data",
          "data": {
            "image/png": "[encoded data removed]",
            "text/plain": [
              "<Figure size 1440x1080 with 2 Axes>"
            ]
          },
          "metadata": {
            "tags": [],
            "needs_background": "light"
          }
        }
      ]
    },
    {
      "cell_type": "markdown",
      "metadata": {
        "id": "KuAHP6ddDQ96"
      },
      "source": [
        "# Lets plot these correlations for logistic regression"
      ]
    },
    {
      "cell_type": "code",
      "metadata": {
        "id": "tpwfHgItDQ96",
        "outputId": "592625c2-0fc8-406e-b85a-3a942f6542df"
      },
      "source": [
        "# Seems to be strong negative correlation with V14 and strong positive with V4 so lets plot these\n",
        "plotFeatures(dataset, 'V4', 'Class')"
      ],
      "execution_count": null,
      "outputs": [
        {
          "output_type": "display_data",
          "data": {
            "image/png": "[encoded data removed]",
            "text/plain": [
              "<Figure size 432x288 with 1 Axes>"
            ]
          },
          "metadata": {
            "tags": [],
            "needs_background": "light"
          }
        }
      ]
    },
    {
      "cell_type": "code",
      "metadata": {
        "id": "T6f2KmQUDQ96",
        "outputId": "f11fb076-6364-4913-f270-1141e699980b"
      },
      "source": [
        "plotFeatures(dataset, 'V14', 'Class')"
      ],
      "execution_count": null,
      "outputs": [
        {
          "output_type": "display_data",
          "data": {
            "image/png": "[encoded data removed]",
            "text/plain": [
              "<Figure size 432x288 with 1 Axes>"
            ]
          },
          "metadata": {
            "tags": [],
            "needs_background": "light"
          }
        }
      ]
    },
    {
      "cell_type": "code",
      "metadata": {
        "id": "S5p7d7FbDQ97",
        "outputId": "77085bc7-cb58-4de4-b9ee-dae75bcf2b03"
      },
      "source": [
        "# There's slightly weaker corrrelation with v10, v11 and v12\n",
        "plotFeatures(dataset, 'V10', 'Class') # negative correlation"
      ],
      "execution_count": null,
      "outputs": [
        {
          "output_type": "display_data",
          "data": {
            "image/png": "[encoded data removed]",
            "text/plain": [
              "<Figure size 432x288 with 1 Axes>"
            ]
          },
          "metadata": {
            "tags": [],
            "needs_background": "light"
          }
        }
      ]
    },
    {
      "cell_type": "code",
      "metadata": {
        "id": "LsiUE3GuDQ97",
        "outputId": "142d4ab9-7470-447c-fffc-241bb1275c95"
      },
      "source": [
        "plotFeatures(dataset, 'V11', 'Class') # positive corellation"
      ],
      "execution_count": null,
      "outputs": [
        {
          "output_type": "display_data",
          "data": {
            "image/png": "[encoded data removed]",
            "text/plain": [
              "<Figure size 432x288 with 1 Axes>"
            ]
          },
          "metadata": {
            "tags": [],
            "needs_background": "light"
          }
        }
      ]
    },
    {
      "cell_type": "code",
      "metadata": {
        "id": "yxy6Ol3qDQ97",
        "outputId": "e5dfcfac-0168-4204-c6d2-ec8f4024e773"
      },
      "source": [
        "plotFeatures(dataset, 'V12', 'Class') # negative correlation"
      ],
      "execution_count": null,
      "outputs": [
        {
          "output_type": "display_data",
          "data": {
            "image/png": "[encoded data removed]",
            "text/plain": [
              "<Figure size 432x288 with 1 Axes>"
            ]
          },
          "metadata": {
            "tags": [],
            "needs_background": "light"
          }
        }
      ]
    },
    {
      "cell_type": "markdown",
      "metadata": {
        "id": "3cHSznUADQ97"
      },
      "source": [
        "\n",
        "# Lets see if fraud and non-fraud cluster by other two variables\n",
        "- Lets start randomly and then find a clustering algorithm: K-nearest-neighbours is probably suitable."
      ]
    },
    {
      "cell_type": "code",
      "metadata": {
        "id": "LbSmIPinDQ97",
        "outputId": "cbc561b0-433b-4d3f-8d60-b0284ac66f61"
      },
      "source": [
        "plotFeatures(dataset, 'V4', 'V20')"
      ],
      "execution_count": null,
      "outputs": [
        {
          "output_type": "display_data",
          "data": {
            "image/png": "[encoded data removed]",
            "text/plain": [
              "<Figure size 432x288 with 1 Axes>"
            ]
          },
          "metadata": {
            "tags": [],
            "needs_background": "light"
          }
        }
      ]
    },
    {
      "cell_type": "code",
      "metadata": {
        "id": "1ZUrQ1SbDQ97",
        "outputId": "60d6dd7d-0a49-41d8-9dc0-c30b7888283c"
      },
      "source": [
        "plotFeatures(dataset, 'V14', 'V11')"
      ],
      "execution_count": null,
      "outputs": [
        {
          "output_type": "display_data",
          "data": {
            "image/png": "[encoded data removed]",
            "text/plain": [
              "<Figure size 432x288 with 1 Axes>"
            ]
          },
          "metadata": {
            "tags": [],
            "needs_background": "light"
          }
        }
      ]
    },
    {
      "cell_type": "markdown",
      "metadata": {
        "id": "JWSUKM5ADQ97"
      },
      "source": [
        "# Now time to begin the development of our logistic regression algorithm\n",
        "\n",
        "## 1. Sigmoid Function\n",
        "- Takes in the parameters and a training example.\n",
        "- Calculates a prediction for the probability of a transaction being fraudulent\n",
        "- In the breakdown , lets make a function which multiplies each repectivive parameter to each feature where x0 = 1\n",
        "\n",
        "### Definitions:\n",
        "- a training example is defined to be "
      ]
    },
    {
      "cell_type": "code",
      "metadata": {
        "id": "9YJJL3_QDQ97"
      },
      "source": [
        "def sigmoid(trainingExample, featureNames: list, parameters: list) -> float:\n",
        "    \"\"\"\n",
        "    j is the index of the feature out of our selected feature set.\n",
        "    n is the number of selected features\n",
        "    \"\"\"\n",
        "    z = 0 # our input to the sigmoid (probability) function\n",
        "    n = len(featureNames)\n",
        "    for j in range(n):\n",
        "        featureName = featureNames[j]\n",
        "        jthFeatureVal, jthParameterVal = trainingExample[featureName], parameters[j]\n",
        "        z += jthFeatureVal * jthParameterVal       \n",
        "    return 1 / (1 + math.exp(-z))"
      ],
      "execution_count": null,
      "outputs": []
    },
    {
      "cell_type": "markdown",
      "metadata": {
        "id": "tqC2S9OADQ97"
      },
      "source": [
        "## 2. Cost Function\n",
        "- Takes in the parameters and a training example.\n",
        "- Calculates the average error and is a measure of how well our model performed\n",
        "- We will use it to see how much we reduced it after gradient decent"
      ]
    },
    {
      "cell_type": "code",
      "metadata": {
        "id": "e928Jv8pDQ97"
      },
      "source": [
        "def cost(trainingSet, featureNames: list, parameters: list) -> float:\n",
        "    \"\"\"\n",
        "    m is the total number of training examples \n",
        "    \"\"\"\n",
        "    costSum = 0\n",
        "    # iterate over dataframe by row\n",
        "    for index, trainingExample in trainingSet.iterrows():\n",
        "        probability = sigmoid(trainingExample, featureNames, parameters) - 0.000001\n",
        "        # the piecewise implemation\n",
        "        if trainingExample.Class == 1:\n",
        "            costSum += -math.log(probability)\n",
        "        else:\n",
        "            costSum += -math.log(1 - probability)\n",
        "    # Makes an average\n",
        "    m = trainingSet.shape[0]\n",
        "    return costSum / m"
      ],
      "execution_count": null,
      "outputs": []
    },
    {
      "cell_type": "markdown",
      "metadata": {
        "id": "UFGTNg8VDQ97"
      },
      "source": [
        "## 3. Gradient Descent\n",
        "- Tunes a model’s parameters by calculating the partial derivative of the cost function with respect to the parameters in inputs in order to find the minimum cost output - the lowest error when making predictions.\n",
        "- It needs to have a learning rate set, if too high, the algorithm won't converge, if too low, it'll take too long to converge.\n"
      ]
    },
    {
      "cell_type": "code",
      "metadata": {
        "id": "hXe140jBDQ97"
      },
      "source": [
        "def costPartialDerivative(trainingSet, jthFeature: str, featureNames: list, parameters: list):\n",
        "    \"\"\"\n",
        "    'jthFeature' is the name of the feature we're partially differentiating the cost function with respct to.\n",
        "    'm' is the total number of training examples \n",
        "    \"\"\"\n",
        "    m = trainingSet.shape[0]\n",
        "    pdSum = 0\n",
        "    for index, trainingExample in trainingSet.iterrows():\n",
        "        probability = sigmoid(trainingExample, featureNames, parameters)\n",
        "        jthFeatureVal = trainingExample[jthFeature]\n",
        "        pdSum += (probability - trainingExample[\"Class\"]) * jthFeatureVal\n",
        "    return pdSum / m"
      ],
      "execution_count": null,
      "outputs": []
    },
    {
      "cell_type": "code",
      "metadata": {
        "id": "baUYTXypDQ97"
      },
      "source": [
        "def descent(trainingSet, featureNames: list, learningRate = 0.1):\n",
        "    \n",
        "    iteration = 1\n",
        "    costHistory = []\n",
        "    \n",
        "    # initialise all parameters at 0 as it's as good as being a random guess \n",
        "    parameters = [0 for x in featureNames]\n",
        "    \n",
        "    # boolean flag indicating if the cost function has reached a minimum\n",
        "    hasConverged = False\n",
        "    \n",
        "    # infinite loop but we break out when we reach convergence - this is subject to change\n",
        "    while not hasConverged:\n",
        "        \n",
        "        # temp holders for calculated parameters\n",
        "        newParameters = parameters\n",
        "        \n",
        "        # initialise values of the partial derviatives of the cost function (with the respect to the current parameter)\n",
        "        # to null as they cannot be calculated yet\n",
        "        pdValHistory = [None for x in featureNames]\n",
        "        \n",
        "        # iteratively work out each parameter of index idx\n",
        "        for j, jthParameter in enumerate(parameters):\n",
        "            \n",
        "            # Calculate the value of the partial derviatives of the cost function (with the respect to the current parameter)\n",
        "            pdVal = costPartialDerivative(trainingSet, featureNames[j], featureNames, parameters)\n",
        "            \n",
        "            # Calculate the new value of the current parameter\n",
        "            newParameter = jthParameter - (learningRate * pdVal)\n",
        "            \n",
        "            # update our new parameter and pd value\n",
        "            newParameters[j] = newParameter\n",
        "            pdValHistory[j] = pdVal\n",
        "            \n",
        "        # simultaneously update all our variables // we don't have to change pds as they will be recalulcated\n",
        "        prevParameter = newParameters\n",
        "        \n",
        "        iteration += 1\n",
        "        \n",
        "        if iteration % 1000 == 0:\n",
        "            currentCost = cost(trainingSet, featureNames, parameters)\n",
        "            print(currentCost, \"- cost\")\n",
        "            print(statistics.mean(pdValHistory), \"avrg partial derivative (Cost gradient)\")\n",
        "            costHistory.append(currentCost)\n",
        "    \n",
        "        if statistics.mean(pdValHistory) < 0.0001:\n",
        "            # breaks and exits program\n",
        "            hasConverged = True\n",
        "            \n",
        "    return newParameters"
      ],
      "execution_count": null,
      "outputs": []
    },
    {
      "cell_type": "markdown",
      "metadata": {
        "id": "HlEeLVJpDQ97"
      },
      "source": [
        "# First test\n",
        "- 1. Choose trainingset - small at first\n",
        "- 2. Add columns for predicted prob and predicted class, and our 0th feature should always be 1\n",
        "- 3. Select Variables, start with 2 very highly correlated ones\n",
        "- 4. See if the cost function works\n",
        "- 5. plot the sigmoid and calculate a parametrized example"
      ]
    },
    {
      "cell_type": "code",
      "metadata": {
        "id": "lGS-i1TADQ97"
      },
      "source": [
        "# 1- One fifth the size of our dataset\n",
        "trainingSet = dataset.sample(len(dataset) // 5) "
      ],
      "execution_count": null,
      "outputs": []
    },
    {
      "cell_type": "code",
      "metadata": {
        "id": "oteTvPxzDQ97"
      },
      "source": [
        "# 2- Add Columns\n",
        "trainingSet['V0'] = 1 # x0 = 1 for matrix multipication with the constant term\n",
        "trainingSet['Predicted_Class'] = None\n",
        "trainingSet['Predicted_Prob'] = None"
      ],
      "execution_count": null,
      "outputs": []
    },
    {
      "cell_type": "code",
      "metadata": {
        "id": "8vJy-tJFDQ97",
        "outputId": "27cb5a2f-9af3-4f4f-b017-2de597f7db49"
      },
      "source": [
        "# 3 - creates the correlation matrix\n",
        "corr = trainingSet.corr()\n",
        "\n",
        "# abs returns the absolute (positive) values, unstack lays it out as a list\n",
        "correlatedPairs = corr.abs().unstack() \n",
        "\n",
        "# sorts corrlations in terms of descending order \n",
        "correlatedPairs.sort_values(ascending = False).drop_duplicates()[1:]"
      ],
      "execution_count": null,
      "outputs": [
        {
          "output_type": "execute_result",
          "data": {
            "text/plain": [
              "V16    V17              0.950295\n",
              "V17    V18              0.938191\n",
              "V5     V1               0.914433\n",
              "V1     V3               0.912109\n",
              "V3     V7               0.911482\n",
              "                          ...   \n",
              "V10    Amount_Scaled    0.001012\n",
              "Class  V24              0.000517\n",
              "V15    V23              0.000390\n",
              "V21    V5               0.000276\n",
              "V1     V0                    NaN\n",
              "Length: 466, dtype: float64"
            ]
          },
          "metadata": {
            "tags": []
          },
          "execution_count": 26
        }
      ]
    },
    {
      "cell_type": "markdown",
      "metadata": {
        "id": "ZZgF8eaODQ97"
      },
      "source": [
        "We're using a `Forward Feature Construction` and `High Correlation Filter:` strategy:\n",
        " - beginning by using V17 and V16, always v0"
      ]
    },
    {
      "cell_type": "code",
      "metadata": {
        "id": "t-k162m8DQ97",
        "outputId": "e61a8e1d-74f4-4cd0-cb8d-80a98d8313f4"
      },
      "source": [
        "# now we can select our features - v0 is always mandatory\n",
        "featureNames = ['V0' ,'V16', 'V17']\n",
        "\n",
        "# Generate some random parameter values for testing\n",
        "# parameters = [random.randint(-2,2) for x in featureNames]\n",
        "# print(parameters)\n",
        "\n",
        "# Test our training set exists\n",
        "trainingSet[featureNames]"
      ],
      "execution_count": null,
      "outputs": [
        {
          "output_type": "execute_result",
          "data": {
            "text/html": [
              "<div>\n",
              "<style scoped>\n",
              "    .dataframe tbody tr th:only-of-type {\n",
              "        vertical-align: middle;\n",
              "    }\n",
              "\n",
              "    .dataframe tbody tr th {\n",
              "        vertical-align: top;\n",
              "    }\n",
              "\n",
              "    .dataframe thead th {\n",
              "        text-align: right;\n",
              "    }\n",
              "</style>\n",
              "<table border=\"1\" class=\"dataframe\">\n",
              "  <thead>\n",
              "    <tr style=\"text-align: right;\">\n",
              "      <th></th>\n",
              "      <th>V0</th>\n",
              "      <th>V16</th>\n",
              "      <th>V17</th>\n",
              "    </tr>\n",
              "  </thead>\n",
              "  <tbody>\n",
              "    <tr>\n",
              "      <th>75903</th>\n",
              "      <td>1</td>\n",
              "      <td>-1.600807</td>\n",
              "      <td>0.716062</td>\n",
              "    </tr>\n",
              "    <tr>\n",
              "      <th>8617</th>\n",
              "      <td>1</td>\n",
              "      <td>-1.233958</td>\n",
              "      <td>1.632009</td>\n",
              "    </tr>\n",
              "    <tr>\n",
              "      <th>10897</th>\n",
              "      <td>1</td>\n",
              "      <td>-8.333242</td>\n",
              "      <td>-12.602596</td>\n",
              "    </tr>\n",
              "    <tr>\n",
              "      <th>282744</th>\n",
              "      <td>1</td>\n",
              "      <td>-0.883841</td>\n",
              "      <td>-0.041822</td>\n",
              "    </tr>\n",
              "    <tr>\n",
              "      <th>149357</th>\n",
              "      <td>1</td>\n",
              "      <td>-2.425016</td>\n",
              "      <td>-3.960623</td>\n",
              "    </tr>\n",
              "    <tr>\n",
              "      <th>...</th>\n",
              "      <td>...</td>\n",
              "      <td>...</td>\n",
              "      <td>...</td>\n",
              "    </tr>\n",
              "    <tr>\n",
              "      <th>154720</th>\n",
              "      <td>1</td>\n",
              "      <td>-5.022557</td>\n",
              "      <td>-8.522975</td>\n",
              "    </tr>\n",
              "    <tr>\n",
              "      <th>144863</th>\n",
              "      <td>1</td>\n",
              "      <td>-0.417033</td>\n",
              "      <td>0.968343</td>\n",
              "    </tr>\n",
              "    <tr>\n",
              "      <th>243393</th>\n",
              "      <td>1</td>\n",
              "      <td>-5.145638</td>\n",
              "      <td>-6.293479</td>\n",
              "    </tr>\n",
              "    <tr>\n",
              "      <th>240824</th>\n",
              "      <td>1</td>\n",
              "      <td>0.378934</td>\n",
              "      <td>-0.337360</td>\n",
              "    </tr>\n",
              "    <tr>\n",
              "      <th>229907</th>\n",
              "      <td>1</td>\n",
              "      <td>0.239606</td>\n",
              "      <td>1.347830</td>\n",
              "    </tr>\n",
              "  </tbody>\n",
              "</table>\n",
              "<p>196 rows × 3 columns</p>\n",
              "</div>"
            ],
            "text/plain": [
              "        V0       V16        V17\n",
              "75903    1 -1.600807   0.716062\n",
              "8617     1 -1.233958   1.632009\n",
              "10897    1 -8.333242 -12.602596\n",
              "282744   1 -0.883841  -0.041822\n",
              "149357   1 -2.425016  -3.960623\n",
              "...     ..       ...        ...\n",
              "154720   1 -5.022557  -8.522975\n",
              "144863   1 -0.417033   0.968343\n",
              "243393   1 -5.145638  -6.293479\n",
              "240824   1  0.378934  -0.337360\n",
              "229907   1  0.239606   1.347830\n",
              "\n",
              "[196 rows x 3 columns]"
            ]
          },
          "metadata": {
            "tags": []
          },
          "execution_count": 27
        }
      ]
    },
    {
      "cell_type": "code",
      "metadata": {
        "id": "nFXciH7XDQ97"
      },
      "source": [
        "# trainingExample = trainingSet.iloc[0]\n",
        "\n",
        "# Lets do a couple tests for our sigmoid function\n",
        "# print(trainingExample[featureNames])\n",
        "# print(sigmoid(trainingExample, featureNames, parameters))"
      ],
      "execution_count": null,
      "outputs": []
    },
    {
      "cell_type": "markdown",
      "metadata": {
        "id": "tt26v7LnDQ97"
      },
      "source": [
        "\n",
        "### Sigmoid and parametrize function test....\n",
        "- I've put it all in my calculator and IT WORKS :)\n",
        "- Now time to do a dry test our cost function"
      ]
    },
    {
      "cell_type": "code",
      "metadata": {
        "id": "bhB8snLvDQ97"
      },
      "source": [
        "# cost(trainingSet, featureNames, parameters)"
      ],
      "execution_count": null,
      "outputs": []
    },
    {
      "cell_type": "markdown",
      "metadata": {
        "id": "P_0klO65DQ97"
      },
      "source": [
        "### Cost works :) \n",
        "- we'll use this to keep a history and plot it to see if it's value really does converge after a number of iterations\n",
        "- Now lets check the partial derivative function before we jump into the more complex descent function\n",
        "- j takes 3 values at the moment, 0, 1, 2 as there's 3 parameters"
      ]
    },
    {
      "cell_type": "code",
      "metadata": {
        "id": "mI4ljp4bDQ97"
      },
      "source": [
        "# costPartialDerivative(trainingSet, 'V17', featureNames, parameters)"
      ],
      "execution_count": null,
      "outputs": []
    },
    {
      "cell_type": "code",
      "metadata": {
        "id": "wJGpBKHkDQ97"
      },
      "source": [
        "tunedParameters = descent(trainingSet, featureNames)"
      ],
      "execution_count": null,
      "outputs": []
    },
    {
      "cell_type": "code",
      "metadata": {
        "id": "pnmh6lLMDQ97",
        "outputId": "e9014f10-3c3e-4c1f-c824-b8f9e42994be"
      },
      "source": [
        "testExample = trainingSet.sample(1)\n",
        "print(testExample[\"Class\"])\n",
        "sigmoid(testExample, featureNames, tunedParameters)"
      ],
      "execution_count": null,
      "outputs": [
        {
          "output_type": "stream",
          "text": [
            "258973    0\n",
            "Name: Class, dtype: int64\n",
            "V0 -0.8853174304804688 0\n",
            "V16 -0.5976539092431359 1\n",
            "V17 -0.08883549686646534 2\n"
          ],
          "name": "stdout"
        },
        {
          "output_type": "execute_result",
          "data": {
            "text/plain": [
              "0.25471586240939303"
            ]
          },
          "metadata": {
            "tags": []
          },
          "execution_count": 37
        }
      ]
    },
    {
      "cell_type": "markdown",
      "metadata": {
        "id": "LoDABxr1DQ98"
      },
      "source": [
        "# Evaluation Environment"
      ]
    },
    {
      "cell_type": "code",
      "metadata": {
        "id": "oxaxqlgkDQ98"
      },
      "source": [
        "def test(testingSet, featureNames, tunedParameters):\n",
        "    \"\"\"\n",
        "    Evaluates every case where the model correctly/incorrectly predicted positive or negative \n",
        "    \"\"\"\n",
        "    # where True Positive = tp, False Negative = fn, etc\n",
        "    tp = tn = fp = fn = 0\n",
        "    \n",
        "    for index, testingExample in testingSet.iterrows():\n",
        "        \n",
        "        # Use our tuned parameters and selected features to calculate a probability of a test example being fraudulent\n",
        "        probability = sigmoid(testingExample, featureNames, tunedParameters)\n",
        "        \n",
        "        # Decision bounday\n",
        "        if probability > 0.5:         \n",
        "            predictedClass= 1\n",
        "        else:\n",
        "            predictedClass= 0\n",
        "        \n",
        "        # Assign these predicted values to the respective set\n",
        "        testingSet.at[index, \"Predicted_Prob\"] = probability\n",
        "        testingSet.at[index, \"Predicted_Class\"] = predictedClass\n",
        "        \n",
        "        # Get the actual target class\n",
        "        actualClass = testingSet.loc[index][\"Class\"]\n",
        "        \n",
        "        if actualClass == predictedClass:\n",
        "            if actualClass == 1:\n",
        "                tp += 1\n",
        "            else:\n",
        "                tn += 1\n",
        "        else:\n",
        "            if predictedClass == 1:\n",
        "                fp += 1\n",
        "            else:\n",
        "                fn += 1\n",
        "    return (tp, tn, fp, fn)"
      ],
      "execution_count": null,
      "outputs": []
    },
    {
      "cell_type": "code",
      "metadata": {
        "id": "ewIbJcKVDQ98"
      },
      "source": [
        "def recall(testResults):\n",
        "    tp, tn, fp, fn = testResults\n",
        "    # true positives / true positives + false negatives\n",
        "    return tp / (tp + fn)\n",
        "\n",
        "def precision(testResults):\n",
        "    tp, tn, fp, fn = testResults\n",
        "    # true positives / true positives + false positive\n",
        "    return tp / (tp + fp)"
      ],
      "execution_count": null,
      "outputs": []
    },
    {
      "cell_type": "code",
      "metadata": {
        "id": "Tu2s4R0wDQ98",
        "outputId": "39ddbb54-5e54-49a9-9f27-2b6582d2fd9c"
      },
      "source": [
        "results = test(trainingSet, featureNames, tunedParameters)"
      ],
      "execution_count": null,
      "outputs": [
        {
          "output_type": "stream",
          "text": [
            "V0 -0.8853174304804688 0\n",
            "V16 -0.5976539092431359 1\n",
            "V17 -0.08883549686646534 2\n",
            "V0 -0.8853174304804688 0\n",
            "V16 -0.5976539092431359 1\n",
            "V17 -0.08883549686646534 2\n",
            "V0 -0.8853174304804688 0\n",
            "V16 -0.5976539092431359 1\n",
            "V17 -0.08883549686646534 2\n",
            "V0 -0.8853174304804688 0\n",
            "V16 -0.5976539092431359 1\n",
            "V17 -0.08883549686646534 2\n",
            "V0 -0.8853174304804688 0\n",
            "V16 -0.5976539092431359 1\n",
            "V17 -0.08883549686646534 2\n",
            "V0 -0.8853174304804688 0\n",
            "V16 -0.5976539092431359 1\n",
            "V17 -0.08883549686646534 2\n",
            "V0 -0.8853174304804688 0\n",
            "V16 -0.5976539092431359 1\n",
            "V17 -0.08883549686646534 2\n",
            "V0 -0.8853174304804688 0\n",
            "V16 -0.5976539092431359 1\n",
            "V17 -0.08883549686646534 2\n",
            "V0 -0.8853174304804688 0\n",
            "V16 -0.5976539092431359 1\n",
            "V17 -0.08883549686646534 2\n",
            "V0 -0.8853174304804688 0\n",
            "V16 -0.5976539092431359 1\n",
            "V17 -0.08883549686646534 2\n",
            "V0 -0.8853174304804688 0\n",
            "V16 -0.5976539092431359 1\n",
            "V17 -0.08883549686646534 2\n",
            "V0 -0.8853174304804688 0\n",
            "V16 -0.5976539092431359 1\n",
            "V17 -0.08883549686646534 2\n",
            "V0 -0.8853174304804688 0\n",
            "V16 -0.5976539092431359 1\n",
            "V17 -0.08883549686646534 2\n",
            "V0 -0.8853174304804688 0\n",
            "V16 -0.5976539092431359 1\n",
            "V17 -0.08883549686646534 2\n",
            "V0 -0.8853174304804688 0\n",
            "V16 -0.5976539092431359 1\n",
            "V17 -0.08883549686646534 2\n",
            "V0 -0.8853174304804688 0\n",
            "V16 -0.5976539092431359 1\n",
            "V17 -0.08883549686646534 2\n",
            "V0 -0.8853174304804688 0\n",
            "V16 -0.5976539092431359 1\n",
            "V17 -0.08883549686646534 2\n",
            "V0 -0.8853174304804688 0\n",
            "V16 -0.5976539092431359 1\n",
            "V17 -0.08883549686646534 2\n",
            "V0 -0.8853174304804688 0\n",
            "V16 -0.5976539092431359 1\n",
            "V17 -0.08883549686646534 2\n",
            "V0 -0.8853174304804688 0\n",
            "V16 -0.5976539092431359 1\n",
            "V17 -0.08883549686646534 2\n",
            "V0 -0.8853174304804688 0\n",
            "V16 -0.5976539092431359 1\n",
            "V17 -0.08883549686646534 2\n",
            "V0 -0.8853174304804688 0\n",
            "V16 -0.5976539092431359 1\n",
            "V17 -0.08883549686646534 2\n",
            "V0 -0.8853174304804688 0\n",
            "V16 -0.5976539092431359 1\n",
            "V17 -0.08883549686646534 2\n",
            "V0 -0.8853174304804688 0\n",
            "V16 -0.5976539092431359 1\n",
            "V17 -0.08883549686646534 2\n",
            "V0 -0.8853174304804688 0\n",
            "V16 -0.5976539092431359 1\n",
            "V17 -0.08883549686646534 2\n",
            "V0 -0.8853174304804688 0\n",
            "V16 -0.5976539092431359 1\n",
            "V17 -0.08883549686646534 2\n",
            "V0 -0.8853174304804688 0\n",
            "V16 -0.5976539092431359 1\n",
            "V17 -0.08883549686646534 2\n",
            "V0 -0.8853174304804688 0\n",
            "V16 -0.5976539092431359 1\n",
            "V17 -0.08883549686646534 2\n",
            "V0 -0.8853174304804688 0\n",
            "V16 -0.5976539092431359 1\n",
            "V17 -0.08883549686646534 2\n",
            "V0 -0.8853174304804688 0\n",
            "V16 -0.5976539092431359 1\n",
            "V17 -0.08883549686646534 2\n",
            "V0 -0.8853174304804688 0\n",
            "V16 -0.5976539092431359 1\n",
            "V17 -0.08883549686646534 2\n",
            "V0 -0.8853174304804688 0\n",
            "V16 -0.5976539092431359 1\n",
            "V17 -0.08883549686646534 2\n",
            "V0 -0.8853174304804688 0\n",
            "V16 -0.5976539092431359 1\n",
            "V17 -0.08883549686646534 2\n",
            "V0 -0.8853174304804688 0\n",
            "V16 -0.5976539092431359 1\n",
            "V17 -0.08883549686646534 2\n",
            "V0 -0.8853174304804688 0\n",
            "V16 -0.5976539092431359 1\n",
            "V17 -0.08883549686646534 2\n",
            "V0 -0.8853174304804688 0\n",
            "V16 -0.5976539092431359 1\n",
            "V17 -0.08883549686646534 2\n",
            "V0 -0.8853174304804688 0\n",
            "V16 -0.5976539092431359 1\n",
            "V17 -0.08883549686646534 2\n",
            "V0 -0.8853174304804688 0\n",
            "V16 -0.5976539092431359 1\n",
            "V17 -0.08883549686646534 2\n",
            "V0 -0.8853174304804688 0\n",
            "V16 -0.5976539092431359 1\n",
            "V17 -0.08883549686646534 2\n",
            "V0 -0.8853174304804688 0\n",
            "V16 -0.5976539092431359 1\n",
            "V17 -0.08883549686646534 2\n",
            "V0 -0.8853174304804688 0\n",
            "V16 -0.5976539092431359 1\n",
            "V17 -0.08883549686646534 2\n",
            "V0 -0.8853174304804688 0\n",
            "V16 -0.5976539092431359 1\n",
            "V17 -0.08883549686646534 2\n",
            "V0 -0.8853174304804688 0\n",
            "V16 -0.5976539092431359 1\n",
            "V17 -0.08883549686646534 2\n",
            "V0 -0.8853174304804688 0\n",
            "V16 -0.5976539092431359 1\n",
            "V17 -0.08883549686646534 2\n",
            "V0 -0.8853174304804688 0\n",
            "V16 -0.5976539092431359 1\n",
            "V17 -0.08883549686646534 2\n",
            "V0 -0.8853174304804688 0\n",
            "V16 -0.5976539092431359 1\n",
            "V17 -0.08883549686646534 2\n",
            "V0 -0.8853174304804688 0\n",
            "V16 -0.5976539092431359 1\n",
            "V17 -0.08883549686646534 2\n",
            "V0 -0.8853174304804688 0\n",
            "V16 -0.5976539092431359 1\n",
            "V17 -0.08883549686646534 2\n",
            "V0 -0.8853174304804688 0\n",
            "V16 -0.5976539092431359 1\n",
            "V17 -0.08883549686646534 2\n",
            "V0 -0.8853174304804688 0\n",
            "V16 -0.5976539092431359 1\n",
            "V17 -0.08883549686646534 2\n",
            "V0 -0.8853174304804688 0\n",
            "V16 -0.5976539092431359 1\n",
            "V17 -0.08883549686646534 2\n",
            "V0 -0.8853174304804688 0\n",
            "V16 -0.5976539092431359 1\n",
            "V17 -0.08883549686646534 2\n",
            "V0 -0.8853174304804688 0\n",
            "V16 -0.5976539092431359 1\n",
            "V17 -0.08883549686646534 2\n",
            "V0 -0.8853174304804688 0\n",
            "V16 -0.5976539092431359 1\n",
            "V17 -0.08883549686646534 2\n",
            "V0 -0.8853174304804688 0\n",
            "V16 -0.5976539092431359 1\n",
            "V17 -0.08883549686646534 2\n",
            "V0 -0.8853174304804688 0\n",
            "V16 -0.5976539092431359 1\n",
            "V17 -0.08883549686646534 2\n",
            "V0 -0.8853174304804688 0\n",
            "V16 -0.5976539092431359 1\n",
            "V17 -0.08883549686646534 2\n",
            "V0 -0.8853174304804688 0\n",
            "V16 -0.5976539092431359 1\n",
            "V17 -0.08883549686646534 2\n",
            "V0 -0.8853174304804688 0\n",
            "V16 -0.5976539092431359 1\n",
            "V17 -0.08883549686646534 2\n",
            "V0 -0.8853174304804688 0\n",
            "V16 -0.5976539092431359 1\n",
            "V17 -0.08883549686646534 2\n",
            "V0 -0.8853174304804688 0\n",
            "V16 -0.5976539092431359 1\n",
            "V17 -0.08883549686646534 2\n",
            "V0 -0.8853174304804688 0\n",
            "V16 -0.5976539092431359 1\n",
            "V17 -0.08883549686646534 2\n",
            "V0 -0.8853174304804688 0\n",
            "V16 -0.5976539092431359 1\n",
            "V17 -0.08883549686646534 2\n",
            "V0 -0.8853174304804688 0\n",
            "V16 -0.5976539092431359 1\n",
            "V17 -0.08883549686646534 2\n",
            "V0 -0.8853174304804688 0\n",
            "V16 -0.5976539092431359 1\n",
            "V17 -0.08883549686646534 2\n",
            "V0 -0.8853174304804688 0\n",
            "V16 -0.5976539092431359 1\n",
            "V17 -0.08883549686646534 2\n",
            "V0 -0.8853174304804688 0\n",
            "V16 -0.5976539092431359 1\n",
            "V17 -0.08883549686646534 2\n",
            "V0 -0.8853174304804688 0\n",
            "V16 -0.5976539092431359 1\n",
            "V17 -0.08883549686646534 2\n",
            "V0 -0.8853174304804688 0\n",
            "V16 -0.5976539092431359 1\n",
            "V17 -0.08883549686646534 2\n",
            "V0 -0.8853174304804688 0\n",
            "V16 -0.5976539092431359 1\n",
            "V17 -0.08883549686646534 2\n",
            "V0 -0.8853174304804688 0\n",
            "V16 -0.5976539092431359 1\n",
            "V17 -0.08883549686646534 2\n",
            "V0 -0.8853174304804688 0\n",
            "V16 -0.5976539092431359 1\n",
            "V17 -0.08883549686646534 2\n",
            "V0 -0.8853174304804688 0\n",
            "V16 -0.5976539092431359 1\n",
            "V17 -0.08883549686646534 2\n",
            "V0 -0.8853174304804688 0\n",
            "V16 -0.5976539092431359 1\n",
            "V17 -0.08883549686646534 2\n",
            "V0 -0.8853174304804688 0\n",
            "V16 -0.5976539092431359 1\n",
            "V17 -0.08883549686646534 2\n",
            "V0 -0.8853174304804688 0\n",
            "V16 -0.5976539092431359 1\n",
            "V17 -0.08883549686646534 2\n",
            "V0 -0.8853174304804688 0\n",
            "V16 -0.5976539092431359 1\n",
            "V17 -0.08883549686646534 2\n",
            "V0 -0.8853174304804688 0\n",
            "V16 -0.5976539092431359 1\n",
            "V17 -0.08883549686646534 2\n",
            "V0 -0.8853174304804688 0\n",
            "V16 -0.5976539092431359 1\n",
            "V17 -0.08883549686646534 2\n",
            "V0 -0.8853174304804688 0\n",
            "V16 -0.5976539092431359 1\n",
            "V17 -0.08883549686646534 2\n",
            "V0 -0.8853174304804688 0\n",
            "V16 -0.5976539092431359 1\n",
            "V17 -0.08883549686646534 2\n",
            "V0 -0.8853174304804688 0\n",
            "V16 -0.5976539092431359 1\n",
            "V17 -0.08883549686646534 2\n",
            "V0 -0.8853174304804688 0\n",
            "V16 -0.5976539092431359 1\n",
            "V17 -0.08883549686646534 2\n",
            "V0 -0.8853174304804688 0\n",
            "V16 -0.5976539092431359 1\n",
            "V17 -0.08883549686646534 2\n",
            "V0 -0.8853174304804688 0\n",
            "V16 -0.5976539092431359 1\n",
            "V17 -0.08883549686646534 2\n",
            "V0 -0.8853174304804688 0\n",
            "V16 -0.5976539092431359 1\n",
            "V17 -0.08883549686646534 2\n",
            "V0 -0.8853174304804688 0\n",
            "V16 -0.5976539092431359 1\n",
            "V17 -0.08883549686646534 2\n",
            "V0 -0.8853174304804688 0\n",
            "V16 -0.5976539092431359 1\n",
            "V17 -0.08883549686646534 2\n",
            "V0 -0.8853174304804688 0\n",
            "V16 -0.5976539092431359 1\n",
            "V17 -0.08883549686646534 2\n",
            "V0 -0.8853174304804688 0\n",
            "V16 -0.5976539092431359 1\n",
            "V17 -0.08883549686646534 2\n",
            "V0 -0.8853174304804688 0\n",
            "V16 -0.5976539092431359 1\n",
            "V17 -0.08883549686646534 2\n",
            "V0 -0.8853174304804688 0\n",
            "V16 -0.5976539092431359 1\n",
            "V17 -0.08883549686646534 2\n",
            "V0 -0.8853174304804688 0\n",
            "V16 -0.5976539092431359 1\n",
            "V17 -0.08883549686646534 2\n",
            "V0 -0.8853174304804688 0\n",
            "V16 -0.5976539092431359 1\n",
            "V17 -0.08883549686646534 2\n",
            "V0 -0.8853174304804688 0\n",
            "V16 -0.5976539092431359 1\n",
            "V17 -0.08883549686646534 2\n",
            "V0 -0.8853174304804688 0\n",
            "V16 -0.5976539092431359 1\n",
            "V17 -0.08883549686646534 2\n",
            "V0 -0.8853174304804688 0\n",
            "V16 -0.5976539092431359 1\n",
            "V17 -0.08883549686646534 2\n",
            "V0 -0.8853174304804688 0\n",
            "V16 -0.5976539092431359 1\n",
            "V17 -0.08883549686646534 2\n",
            "V0 -0.8853174304804688 0\n",
            "V16 -0.5976539092431359 1\n",
            "V17 -0.08883549686646534 2\n",
            "V0 -0.8853174304804688 0\n",
            "V16 -0.5976539092431359 1\n",
            "V17 -0.08883549686646534 2\n",
            "V0 -0.8853174304804688 0\n",
            "V16 -0.5976539092431359 1\n",
            "V17 -0.08883549686646534 2\n",
            "V0 -0.8853174304804688 0\n",
            "V16 -0.5976539092431359 1\n",
            "V17 -0.08883549686646534 2\n",
            "V0 -0.8853174304804688 0\n",
            "V16 -0.5976539092431359 1\n",
            "V17 -0.08883549686646534 2\n",
            "V0 -0.8853174304804688 0\n",
            "V16 -0.5976539092431359 1\n",
            "V17 -0.08883549686646534 2\n",
            "V0 -0.8853174304804688 0\n",
            "V16 -0.5976539092431359 1\n",
            "V17 -0.08883549686646534 2\n",
            "V0 -0.8853174304804688 0\n",
            "V16 -0.5976539092431359 1\n",
            "V17 -0.08883549686646534 2\n",
            "V0 -0.8853174304804688 0\n",
            "V16 -0.5976539092431359 1\n",
            "V17 -0.08883549686646534 2\n",
            "V0 -0.8853174304804688 0\n",
            "V16 -0.5976539092431359 1\n",
            "V17 -0.08883549686646534 2\n",
            "V0 -0.8853174304804688 0\n",
            "V16 -0.5976539092431359 1\n",
            "V17 -0.08883549686646534 2\n",
            "V0 -0.8853174304804688 0\n",
            "V16 -0.5976539092431359 1\n",
            "V17 -0.08883549686646534 2\n",
            "V0 -0.8853174304804688 0\n",
            "V16 -0.5976539092431359 1\n",
            "V17 -0.08883549686646534 2\n",
            "V0 -0.8853174304804688 0\n",
            "V16 -0.5976539092431359 1\n",
            "V17 -0.08883549686646534 2\n",
            "V0 -0.8853174304804688 0\n",
            "V16 -0.5976539092431359 1\n",
            "V17 -0.08883549686646534 2\n",
            "V0 -0.8853174304804688 0\n",
            "V16 -0.5976539092431359 1\n",
            "V17 -0.08883549686646534 2\n",
            "V0 -0.8853174304804688 0\n",
            "V16 -0.5976539092431359 1\n",
            "V17 -0.08883549686646534 2\n",
            "V0 -0.8853174304804688 0\n",
            "V16 -0.5976539092431359 1\n",
            "V17 -0.08883549686646534 2\n",
            "V0 -0.8853174304804688 0\n",
            "V16 -0.5976539092431359 1\n",
            "V17 -0.08883549686646534 2\n",
            "V0 -0.8853174304804688 0\n",
            "V16 -0.5976539092431359 1\n",
            "V17 -0.08883549686646534 2\n",
            "V0 -0.8853174304804688 0\n",
            "V16 -0.5976539092431359 1\n",
            "V17 -0.08883549686646534 2\n",
            "V0 -0.8853174304804688 0\n",
            "V16 -0.5976539092431359 1\n",
            "V17 -0.08883549686646534 2\n",
            "V0 -0.8853174304804688 0\n",
            "V16 -0.5976539092431359 1\n",
            "V17 -0.08883549686646534 2\n",
            "V0 -0.8853174304804688 0\n",
            "V16 -0.5976539092431359 1\n",
            "V17 -0.08883549686646534 2\n",
            "V0 -0.8853174304804688 0\n",
            "V16 -0.5976539092431359 1\n",
            "V17 -0.08883549686646534 2\n",
            "V0 -0.8853174304804688 0\n",
            "V16 -0.5976539092431359 1\n",
            "V17 -0.08883549686646534 2\n",
            "V0 -0.8853174304804688 0\n",
            "V16 -0.5976539092431359 1\n",
            "V17 -0.08883549686646534 2\n",
            "V0 -0.8853174304804688 0\n",
            "V16 -0.5976539092431359 1\n",
            "V17 -0.08883549686646534 2\n",
            "V0 -0.8853174304804688 0\n",
            "V16 -0.5976539092431359 1\n",
            "V17 -0.08883549686646534 2\n",
            "V0 -0.8853174304804688 0\n",
            "V16 -0.5976539092431359 1\n",
            "V17 -0.08883549686646534 2\n",
            "V0 -0.8853174304804688 0\n",
            "V16 -0.5976539092431359 1\n",
            "V17 -0.08883549686646534 2\n",
            "V0 -0.8853174304804688 0\n",
            "V16 -0.5976539092431359 1\n",
            "V17 -0.08883549686646534 2\n",
            "V0 -0.8853174304804688 0\n",
            "V16 -0.5976539092431359 1\n",
            "V17 -0.08883549686646534 2\n",
            "V0 -0.8853174304804688 0\n",
            "V16 -0.5976539092431359 1\n",
            "V17 -0.08883549686646534 2\n",
            "V0 -0.8853174304804688 0\n",
            "V16 -0.5976539092431359 1\n",
            "V17 -0.08883549686646534 2\n",
            "V0 -0.8853174304804688 0\n",
            "V16 -0.5976539092431359 1\n",
            "V17 -0.08883549686646534 2\n",
            "V0 -0.8853174304804688 0\n",
            "V16 -0.5976539092431359 1\n",
            "V17 -0.08883549686646534 2\n",
            "V0 -0.8853174304804688 0\n",
            "V16 -0.5976539092431359 1\n",
            "V17 -0.08883549686646534 2\n",
            "V0 -0.8853174304804688 0\n",
            "V16 -0.5976539092431359 1\n",
            "V17 -0.08883549686646534 2\n",
            "V0 -0.8853174304804688 0\n",
            "V16 -0.5976539092431359 1\n",
            "V17 -0.08883549686646534 2\n",
            "V0 -0.8853174304804688 0\n",
            "V16 -0.5976539092431359 1\n",
            "V17 -0.08883549686646534 2\n",
            "V0 -0.8853174304804688 0\n",
            "V16 -0.5976539092431359 1\n",
            "V17 -0.08883549686646534 2\n",
            "V0 -0.8853174304804688 0\n",
            "V16 -0.5976539092431359 1\n",
            "V17 -0.08883549686646534 2\n",
            "V0 -0.8853174304804688 0\n",
            "V16 -0.5976539092431359 1\n",
            "V17 -0.08883549686646534 2\n",
            "V0 -0.8853174304804688 0\n",
            "V16 -0.5976539092431359 1\n",
            "V17 -0.08883549686646534 2\n",
            "V0 -0.8853174304804688 0\n",
            "V16 -0.5976539092431359 1\n",
            "V17 -0.08883549686646534 2\n",
            "V0 -0.8853174304804688 0\n",
            "V16 -0.5976539092431359 1\n",
            "V17 -0.08883549686646534 2\n",
            "V0 -0.8853174304804688 0\n",
            "V16 -0.5976539092431359 1\n",
            "V17 -0.08883549686646534 2\n",
            "V0 -0.8853174304804688 0\n",
            "V16 -0.5976539092431359 1\n",
            "V17 -0.08883549686646534 2\n",
            "V0 -0.8853174304804688 0\n",
            "V16 -0.5976539092431359 1\n",
            "V17 -0.08883549686646534 2\n",
            "V0 -0.8853174304804688 0\n",
            "V16 -0.5976539092431359 1\n",
            "V17 -0.08883549686646534 2\n",
            "V0 -0.8853174304804688 0\n",
            "V16 -0.5976539092431359 1\n",
            "V17 -0.08883549686646534 2\n",
            "V0 -0.8853174304804688 0\n",
            "V16 -0.5976539092431359 1\n",
            "V17 -0.08883549686646534 2\n",
            "V0 -0.8853174304804688 0\n",
            "V16 -0.5976539092431359 1\n",
            "V17 -0.08883549686646534 2\n",
            "V0 -0.8853174304804688 0\n",
            "V16 -0.5976539092431359 1\n",
            "V17 -0.08883549686646534 2\n",
            "V0 -0.8853174304804688 0\n",
            "V16 -0.5976539092431359 1\n",
            "V17 -0.08883549686646534 2\n",
            "V0 -0.8853174304804688 0\n",
            "V16 -0.5976539092431359 1\n",
            "V17 -0.08883549686646534 2\n",
            "V0 -0.8853174304804688 0\n",
            "V16 -0.5976539092431359 1\n",
            "V17 -0.08883549686646534 2\n",
            "V0 -0.8853174304804688 0\n",
            "V16 -0.5976539092431359 1\n",
            "V17 -0.08883549686646534 2\n",
            "V0 -0.8853174304804688 0\n",
            "V16 -0.5976539092431359 1\n",
            "V17 -0.08883549686646534 2\n",
            "V0 -0.8853174304804688 0\n",
            "V16 -0.5976539092431359 1\n",
            "V17 -0.08883549686646534 2\n",
            "V0 -0.8853174304804688 0\n",
            "V16 -0.5976539092431359 1\n",
            "V17 -0.08883549686646534 2\n",
            "V0 -0.8853174304804688 0\n",
            "V16 -0.5976539092431359 1\n",
            "V17 -0.08883549686646534 2\n",
            "V0 -0.8853174304804688 0\n",
            "V16 -0.5976539092431359 1\n",
            "V17 -0.08883549686646534 2\n",
            "V0 -0.8853174304804688 0\n",
            "V16 -0.5976539092431359 1\n",
            "V17 -0.08883549686646534 2\n",
            "V0 -0.8853174304804688 0\n",
            "V16 -0.5976539092431359 1\n",
            "V17 -0.08883549686646534 2\n",
            "V0 -0.8853174304804688 0\n",
            "V16 -0.5976539092431359 1\n",
            "V17 -0.08883549686646534 2\n",
            "V0 -0.8853174304804688 0\n",
            "V16 -0.5976539092431359 1\n",
            "V17 -0.08883549686646534 2\n",
            "V0 -0.8853174304804688 0\n",
            "V16 -0.5976539092431359 1\n",
            "V17 -0.08883549686646534 2\n",
            "V0 -0.8853174304804688 0\n",
            "V16 -0.5976539092431359 1\n",
            "V17 -0.08883549686646534 2\n",
            "V0 -0.8853174304804688 0\n",
            "V16 -0.5976539092431359 1\n",
            "V17 -0.08883549686646534 2\n",
            "V0 -0.8853174304804688 0\n",
            "V16 -0.5976539092431359 1\n",
            "V17 -0.08883549686646534 2\n",
            "V0 -0.8853174304804688 0\n",
            "V16 -0.5976539092431359 1\n",
            "V17 -0.08883549686646534 2\n",
            "V0 -0.8853174304804688 0\n",
            "V16 -0.5976539092431359 1\n",
            "V17 -0.08883549686646534 2\n",
            "V0 -0.8853174304804688 0\n",
            "V16 -0.5976539092431359 1\n",
            "V17 -0.08883549686646534 2\n",
            "V0 -0.8853174304804688 0\n",
            "V16 -0.5976539092431359 1\n",
            "V17 -0.08883549686646534 2\n",
            "V0 -0.8853174304804688 0\n",
            "V16 -0.5976539092431359 1\n",
            "V17 -0.08883549686646534 2\n",
            "V0 -0.8853174304804688 0\n",
            "V16 -0.5976539092431359 1\n",
            "V17 -0.08883549686646534 2\n",
            "V0 -0.8853174304804688 0\n",
            "V16 -0.5976539092431359 1\n",
            "V17 -0.08883549686646534 2\n",
            "V0 -0.8853174304804688 0\n",
            "V16 -0.5976539092431359 1\n",
            "V17 -0.08883549686646534 2\n",
            "V0 -0.8853174304804688 0\n",
            "V16 -0.5976539092431359 1\n",
            "V17 -0.08883549686646534 2\n",
            "V0 -0.8853174304804688 0\n",
            "V16 -0.5976539092431359 1\n",
            "V17 -0.08883549686646534 2\n",
            "V0 -0.8853174304804688 0\n",
            "V16 -0.5976539092431359 1\n",
            "V17 -0.08883549686646534 2\n",
            "V0 -0.8853174304804688 0\n",
            "V16 -0.5976539092431359 1\n",
            "V17 -0.08883549686646534 2\n",
            "V0 -0.8853174304804688 0\n",
            "V16 -0.5976539092431359 1\n",
            "V17 -0.08883549686646534 2\n",
            "V0 -0.8853174304804688 0\n",
            "V16 -0.5976539092431359 1\n",
            "V17 -0.08883549686646534 2\n"
          ],
          "name": "stdout"
        },
        {
          "output_type": "stream",
          "text": [
            "V0 -0.8853174304804688 0\n",
            "V16 -0.5976539092431359 1\n",
            "V17 -0.08883549686646534 2\n",
            "V0 -0.8853174304804688 0\n",
            "V16 -0.5976539092431359 1\n",
            "V17 -0.08883549686646534 2\n",
            "V0 -0.8853174304804688 0\n",
            "V16 -0.5976539092431359 1\n",
            "V17 -0.08883549686646534 2\n",
            "V0 -0.8853174304804688 0\n",
            "V16 -0.5976539092431359 1\n",
            "V17 -0.08883549686646534 2\n",
            "V0 -0.8853174304804688 0\n",
            "V16 -0.5976539092431359 1\n",
            "V17 -0.08883549686646534 2\n",
            "V0 -0.8853174304804688 0\n",
            "V16 -0.5976539092431359 1\n",
            "V17 -0.08883549686646534 2\n",
            "V0 -0.8853174304804688 0\n",
            "V16 -0.5976539092431359 1\n",
            "V17 -0.08883549686646534 2\n",
            "V0 -0.8853174304804688 0\n",
            "V16 -0.5976539092431359 1\n",
            "V17 -0.08883549686646534 2\n",
            "V0 -0.8853174304804688 0\n",
            "V16 -0.5976539092431359 1\n",
            "V17 -0.08883549686646534 2\n",
            "V0 -0.8853174304804688 0\n",
            "V16 -0.5976539092431359 1\n",
            "V17 -0.08883549686646534 2\n",
            "V0 -0.8853174304804688 0\n",
            "V16 -0.5976539092431359 1\n",
            "V17 -0.08883549686646534 2\n",
            "V0 -0.8853174304804688 0\n",
            "V16 -0.5976539092431359 1\n",
            "V17 -0.08883549686646534 2\n"
          ],
          "name": "stdout"
        }
      ]
    },
    {
      "cell_type": "code",
      "metadata": {
        "id": "5QVH8CsHDQ98",
        "outputId": "46bf0447-c450-41c0-e027-05b2ce41317f"
      },
      "source": [
        "print(\"RECALL: \", recall(results))\n",
        "print(\"PRECISION\", precision(results))"
      ],
      "execution_count": null,
      "outputs": [
        {
          "output_type": "stream",
          "text": [
            "RECALL:  0.6526315789473685\n",
            "PRECISION 0.9538461538461539\n"
          ],
          "name": "stdout"
        }
      ]
    },
    {
      "cell_type": "markdown",
      "metadata": {
        "id": "NYd1oyP-DQ98"
      },
      "source": [
        "## Before we move on:\n",
        "- 1: We need **k-fold cross validation**\n",
        "- 2: A simpler and less data intensive way to store our 0th feature (=1)\n",
        "- 3: A **CLEAR DEFINITION of a model** and the associated data structure which will contain it\n",
        "- 4: A graphical representation of our decreasing cost function and a **confusion matrix generator**\n",
        "- 5: We need to normalise our input to the sigmoid function to prevent math domain errors with the logarithm . e.g log(0) = undefined"
      ]
    },
    {
      "cell_type": "code",
      "metadata": {
        "scrolled": true,
        "id": "pAig1h7ADQ98",
        "outputId": "bd18b40b-8780-4e6f-8bbb-57ad177df026"
      },
      "source": [
        "featureNames = ['V0', 'V14', 'V11', 'V13', 'V17', 'V18']\n",
        "transactions['V0'] = 1\n",
        "tunedParameters = descent(dataset, featureNames, 0.5)"
      ],
      "execution_count": null,
      "outputs": [
        {
          "output_type": "stream",
          "text": [
            "0.2922231672260352 - cost\n",
            "0.02038054760505968 avrg partial derivative (Cost gradient)\n",
            "0.24476623580695606 - cost\n",
            "0.012328173604448635 avrg partial derivative (Cost gradient)\n",
            "0.22762107300435383 - cost\n",
            "0.008541690435550094 avrg partial derivative (Cost gradient)\n",
            "0.21973678496209162 - cost\n",
            "0.006308490841855642 avrg partial derivative (Cost gradient)\n",
            "0.21561866791854908 - cost\n",
            "0.004834510464031684 avrg partial derivative (Cost gradient)\n",
            "0.21329308207468953 - cost\n",
            "0.003795798691963025 avrg partial derivative (Cost gradient)\n",
            "0.211908527841863 - cost\n",
            "0.003031434436008286 avrg partial derivative (Cost gradient)\n",
            "0.21105245473834763 - cost\n",
            "0.0024513504798717124 avrg partial derivative (Cost gradient)\n",
            "0.21050807292060372 - cost\n",
            "0.0020009219008190076 avrg partial derivative (Cost gradient)\n",
            "0.2101544134986448 - cost\n",
            "0.0016450082324478183 avrg partial derivative (Cost gradient)\n",
            "0.2099208080300687 - cost\n",
            "0.0013599415577931066 avrg partial derivative (Cost gradient)\n",
            "0.20976446752442557 - cost\n",
            "0.0011291782787269831 avrg partial derivative (Cost gradient)\n",
            "0.20965873683174036 - cost\n",
            "0.000940794348108095 avrg partial derivative (Cost gradient)\n",
            "0.20958662799377864 - cost\n",
            "0.0007859716597258514 avrg partial derivative (Cost gradient)\n",
            "0.20953711209976048 - cost\n",
            "0.0006580461759316271 avrg partial derivative (Cost gradient)\n",
            "0.20950292007844443 - cost\n",
            "0.0005518885495804931 avrg partial derivative (Cost gradient)\n",
            "0.2094792012193301 - cost\n",
            "0.000463488923714544 avrg partial derivative (Cost gradient)\n",
            "0.20946268537177315 - cost\n",
            "0.0003896711646971678 avrg partial derivative (Cost gradient)\n",
            "0.20945114922045563 - cost\n",
            "0.00032789147461262445 avrg partial derivative (Cost gradient)\n",
            "0.2094430705323308 - cost\n",
            "0.0002760934027201984 avrg partial derivative (Cost gradient)\n",
            "0.2094374009820478 - cost\n",
            "0.00023260141528832023 avrg partial derivative (Cost gradient)\n",
            "0.20943341509192925 - cost\n",
            "0.0001960413772541954 avrg partial derivative (Cost gradient)\n",
            "0.2094306087626602 - cost\n",
            "0.0001652801791851706 avrg partial derivative (Cost gradient)\n",
            "0.2094286305287804 - cost\n",
            "0.00013937922862449636 avrg partial derivative (Cost gradient)\n",
            "0.20942723464644036 - cost\n",
            "0.00011755814973612083 avrg partial derivative (Cost gradient)\n",
            "0.20942624888319386 - cost\n",
            "9.916611702134958e-05 avrg partial derivative (Cost gradient)\n",
            "0.20942555228752635 - cost\n",
            "8.365898147261687e-05 avrg partial derivative (Cost gradient)\n",
            "0.20942505977883416 - cost\n",
            "7.058085146463066e-05 avrg partial derivative (Cost gradient)\n",
            "0.20942471142576932 - cost\n",
            "5.954914248243128e-05 avrg partial derivative (Cost gradient)\n",
            "0.20942446496324965 - cost\n",
            "5.0242358863373355e-05 avrg partial derivative (Cost gradient)\n",
            "0.20942429055608408 - cost\n",
            "4.2390049486011005e-05 avrg partial derivative (Cost gradient)\n",
            "0.20942416712656456 - cost\n",
            "3.5764509333737626e-05 avrg partial derivative (Cost gradient)\n",
            "0.2094240797740863 - cost\n",
            "3.0173894623668644e-05 avrg partial derivative (Cost gradient)\n",
            "0.2094240179592185 - cost\n",
            "2.5456490637026983e-05 avrg partial derivative (Cost gradient)\n",
            "0.20942397422404732 - cost\n",
            "2.1475925352699102e-05 avrg partial derivative (Cost gradient)\n",
            "0.20942394328943076 - cost\n",
            "1.8117163244014192e-05 avrg partial derivative (Cost gradient)\n",
            "0.20942392141754124 - cost\n",
            "1.5283145508160875e-05 avrg partial derivative (Cost gradient)\n",
            "0.2094239059613916 - cost\n",
            "1.2891967950548055e-05 avrg partial derivative (Cost gradient)\n",
            "0.20942389504629275 - cost\n",
            "1.087450746421146e-05 avrg partial derivative (Cost gradient)\n",
            "0.2094238873444743 - cost\n",
            "9.172423772630293e-06 avrg partial derivative (Cost gradient)\n",
            "0.20942388191555864 - cost\n",
            "7.73647576315746e-06 avrg partial derivative (Cost gradient)\n",
            "0.20942387809360252 - cost\n",
            "6.525102005328845e-06 avrg partial derivative (Cost gradient)\n",
            "0.20942387540708918 - cost\n",
            "5.503223433994696e-06 avrg partial derivative (Cost gradient)\n",
            "0.20942387352224992 - cost\n",
            "4.641233068456564e-06 avrg partial derivative (Cost gradient)\n",
            "0.20942387220290345 - cost\n",
            "3.914143330235588e-06 avrg partial derivative (Cost gradient)\n",
            "0.20942387128199516 - cost\n",
            "3.3008662456201233e-06 avrg partial derivative (Cost gradient)\n",
            "0.20942387064143228 - cost\n",
            "2.7836057522261837e-06 avrg partial derivative (Cost gradient)\n",
            "0.20942387019778874 - cost\n",
            "2.3473446147299885e-06 avrg partial derivative (Cost gradient)\n",
            "0.20942386989218062 - cost\n",
            "1.979411207730589e-06 avrg partial derivative (Cost gradient)\n",
            "0.20942386968308754 - cost\n",
            "1.6691137333927683e-06 avrg partial derivative (Cost gradient)\n",
            "0.20942386954126865 - cost\n",
            "1.407431384022981e-06 avrg partial derivative (Cost gradient)\n",
            "0.20942386944616495 - cost\n",
            "1.186753594995491e-06 avrg partial derivative (Cost gradient)\n",
            "0.20942386938334465 - cost\n",
            "1.0006599107923886e-06 avrg partial derivative (Cost gradient)\n"
          ],
          "name": "stdout"
        }
      ]
    },
    {
      "cell_type": "code",
      "metadata": {
        "id": "ptoGGsMiDQ98",
        "outputId": "070d568a-aa4d-446b-db53-5c51b8919736"
      },
      "source": [
        "transactions['V0'] = 1\n",
        "tunedParameters"
      ],
      "execution_count": null,
      "outputs": [
        {
          "output_type": "execute_result",
          "data": {
            "text/plain": [
              "[-2.2469096164326396,\n",
              " -1.0921977632741287,\n",
              " 0.4549661875279096,\n",
              " -0.3299163464907371,\n",
              " -0.1238172839439683,\n",
              " -0.04476776579778756]"
            ]
          },
          "metadata": {
            "tags": []
          },
          "execution_count": 111
        }
      ]
    },
    {
      "cell_type": "code",
      "metadata": {
        "id": "EXyuxYHyDQ98",
        "outputId": "92af3135-0ade-4fbb-f649-b0332ca37531"
      },
      "source": [
        "print(featureNames, tunedParameters)\n",
        "results = test(transactions, featureNames, tunedParameters)\n",
        "print(\"RECALL: \", recall(results))\n",
        "print(\"PRECISION\" ,precision(results))"
      ],
      "execution_count": null,
      "outputs": [
        {
          "output_type": "stream",
          "text": [
            "['V0', 'V14', 'V11', 'V13', 'V17', 'V18'] [-2.2469096164326396, -1.0921977632741287, 0.4549661875279096, -0.3299163464907371, -0.1238172839439683, -0.04476776579778756]\n",
            "RECALL:  0.8699186991869918\n",
            "PRECISION 0.058255070096638085\n"
          ],
          "name": "stdout"
        }
      ]
    },
    {
      "cell_type": "code",
      "metadata": {
        "id": "u9WD7lLqDQ98",
        "outputId": "36a8ab8e-fc46-4011-8014-611b692549e7"
      },
      "source": [
        "results"
      ],
      "execution_count": null,
      "outputs": [
        {
          "output_type": "execute_result",
          "data": {
            "text/plain": [
              "(428, 277396, 6919, 64)"
            ]
          },
          "metadata": {
            "tags": []
          },
          "execution_count": 113
        }
      ]
    },
    {
      "cell_type": "code",
      "metadata": {
        "id": "usBdY57jDQ98"
      },
      "source": [
        "class evaluation:\n",
        "    def accuraccy(testResults):\n",
        "        tp, tn, fp, fn = testResults\n",
        "        # true positives / true positives + false negatives\n",
        "        return (tp + tn) / (tp + fn)\n",
        "    def recall(testResults):\n",
        "        tp, tn, fp, fn = testResults\n",
        "        # true positives / true positives + false negatives\n",
        "        return tp / (tp + fn)\n",
        "    \n",
        "    def precision(testResults):\n",
        "        tp, tn, fp, fn = testResults\n",
        "        # true positives / true positives + false positive\n",
        "        return tp / (tp + fp)\n",
        "    "
      ],
      "execution_count": null,
      "outputs": []
    }
  ]
}